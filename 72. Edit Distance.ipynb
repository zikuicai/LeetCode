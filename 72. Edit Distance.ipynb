{
 "cells": [
  {
   "cell_type": "markdown",
   "metadata": {},
   "source": [
    "```\n",
    "Given two words word1 and word2, find the minimum number of operations required to convert word1 to word2.\n",
    "\n",
    "You have the following 3 operations permitted on a word:\n",
    "\n",
    "Insert a character\n",
    "Delete a character\n",
    "Replace a character\n",
    "\n",
    "Example 1:\n",
    "Input: word1 = \"horse\", word2 = \"ros\"\n",
    "Output: 3\n",
    "\n",
    "Example 2:\n",
    "Input: word1 = \"intention\", word2 = \"execution\"\n",
    "Output: 5\n",
    "```"
   ]
  },
  {
   "cell_type": "code",
   "execution_count": 36,
   "metadata": {
    "ExecuteTime": {
     "end_time": "2019-04-28T20:10:22.285301Z",
     "start_time": "2019-04-28T20:10:22.280299Z"
    }
   },
   "outputs": [],
   "source": [
    "s1 = 'horse'\n",
    "s2 = 'ros'\n",
    "\n",
    "s1 = \"intention\"\n",
    "s2 = \"execution\"\n",
    "\n",
    "s1 = \"dinitrophenylhydrazine\"\n",
    "s2 = \"benzalphenylhydrazone\""
   ]
  },
  {
   "cell_type": "code",
   "execution_count": 2,
   "metadata": {
    "ExecuteTime": {
     "end_time": "2019-04-28T20:09:55.953274Z",
     "start_time": "2019-04-28T20:09:55.946626Z"
    }
   },
   "outputs": [],
   "source": [
    "def editDistance(s1,s2,m,n):\n",
    "    # base case\n",
    "    if m == 0:\n",
    "        return n\n",
    "    if n == 0:\n",
    "        return m\n",
    "    # recursive relation\n",
    "    if s1[m-1] == s2[n-1]:\n",
    "        return editDistance(s1,s2,m-1,n-1)\n",
    "    else: return min(editDistance(s1,s2,m,n-1)+1,\n",
    "                     editDistance(s1,s2,m-1,n)+1,\n",
    "                     editDistance(s1,s2,m-1,n-1)+1)"
   ]
  },
  {
   "cell_type": "markdown",
   "metadata": {},
   "source": [
    "```\n",
    "This solution goes Time Limit Exceeded\n",
    "Time Complexity: O(m x n)\n",
    "Auxiliary Space: O(m x n)\n",
    "```"
   ]
  },
  {
   "cell_type": "code",
   "execution_count": 33,
   "metadata": {},
   "outputs": [],
   "source": [
    "def editDistance_bottom_up(s1,s2,m,n):\n",
    "    dp = [[0 for x in range(n+1)] for x in range(m+1)]\n",
    "    # memoization\n",
    "    for i in range(m+1):\n",
    "        for j in range(n+1):\n",
    "            # base case\n",
    "            if i==0:\n",
    "                dp[i][j] = j\n",
    "            elif j==0:\n",
    "                dp[i][j] = i\n",
    "            # recursive relation\n",
    "            elif s1[i-1] == s2[j-1]:\n",
    "                dp[i][j]=dp[i-1][j-1]\n",
    "            else: \n",
    "                dp[i][j]=min(dp[i][j-1]+1,\n",
    "                             dp[i-1][j]+1,\n",
    "                             dp[i-1][j-1]+1)\n",
    "    for i in dp:\n",
    "        print(i)\n",
    "    return dp[m][n]"
   ]
  },
  {
   "cell_type": "markdown",
   "metadata": {},
   "source": [
    "```python\n",
    "Time Complexity: O(m x n)\n",
    "Auxiliary Space: O(m x n)\n",
    "    \n",
    "Runtime: 216 ms, faster than 40.88% of Python3 online submissions for Edit Distance.\n",
    "Memory Usage: 16.9 MB, less than 15.76% of Python3 online submissions for Edit Distance.\n",
    "```"
   ]
  },
  {
   "cell_type": "code",
   "execution_count": 34,
   "metadata": {
    "ExecuteTime": {
     "end_time": "2019-04-28T20:12:35.940980Z",
     "start_time": "2019-04-28T20:10:24.720903Z"
    }
   },
   "outputs": [
    {
     "data": {
      "text/plain": [
       "5"
      ]
     },
     "execution_count": 34,
     "metadata": {},
     "output_type": "execute_result"
    }
   ],
   "source": [
    "editDistance(s1,s2,len(s1),len(s2))"
   ]
  },
  {
   "cell_type": "code",
   "execution_count": 37,
   "metadata": {},
   "outputs": [
    {
     "name": "stdout",
     "output_type": "stream",
     "text": [
      "[0, 1, 2, 3, 4, 5, 6, 7, 8, 9, 10, 11, 12, 13, 14, 15, 16, 17, 18, 19, 20, 21]\n",
      "[1, 1, 2, 3, 4, 5, 6, 7, 8, 9, 10, 11, 12, 13, 14, 14, 15, 16, 17, 18, 19, 20]\n",
      "[2, 2, 2, 3, 4, 5, 6, 7, 8, 9, 10, 11, 12, 13, 14, 15, 15, 16, 17, 18, 19, 20]\n",
      "[3, 3, 3, 2, 3, 4, 5, 6, 7, 8, 9, 10, 11, 12, 13, 14, 15, 16, 17, 18, 18, 19]\n",
      "[4, 4, 4, 3, 3, 4, 5, 6, 7, 8, 9, 10, 11, 12, 13, 14, 15, 16, 17, 18, 19, 19]\n",
      "[5, 5, 5, 4, 4, 4, 5, 6, 7, 8, 9, 10, 11, 12, 13, 14, 15, 16, 17, 18, 19, 20]\n",
      "[6, 6, 6, 5, 5, 5, 5, 6, 7, 8, 9, 10, 11, 12, 13, 14, 14, 15, 16, 17, 18, 19]\n",
      "[7, 7, 7, 6, 6, 6, 6, 6, 7, 8, 9, 10, 11, 12, 13, 14, 15, 15, 16, 16, 17, 18]\n",
      "[8, 8, 8, 7, 7, 7, 7, 6, 7, 8, 9, 10, 11, 12, 13, 14, 15, 16, 16, 17, 17, 18]\n",
      "[9, 9, 9, 8, 8, 8, 8, 7, 6, 7, 8, 9, 10, 11, 12, 13, 14, 15, 16, 17, 18, 18]\n",
      "[10, 10, 9, 9, 9, 9, 9, 8, 7, 6, 7, 8, 9, 10, 11, 12, 13, 14, 15, 16, 17, 18]\n",
      "[11, 11, 10, 9, 10, 10, 10, 9, 8, 7, 6, 7, 8, 9, 10, 11, 12, 13, 14, 15, 16, 17]\n",
      "[12, 12, 11, 10, 10, 11, 11, 10, 9, 8, 7, 6, 7, 8, 9, 10, 11, 12, 13, 14, 15, 16]\n",
      "[13, 13, 12, 11, 11, 11, 11, 11, 10, 9, 8, 7, 6, 7, 8, 9, 10, 11, 12, 13, 14, 15]\n",
      "[14, 14, 13, 12, 12, 12, 12, 12, 11, 10, 9, 8, 7, 6, 7, 8, 9, 10, 11, 12, 13, 14]\n",
      "[15, 15, 14, 13, 13, 13, 13, 13, 12, 11, 10, 9, 8, 7, 6, 7, 8, 9, 10, 11, 12, 13]\n",
      "[16, 16, 15, 14, 14, 14, 14, 14, 13, 12, 11, 10, 9, 8, 7, 6, 7, 8, 9, 10, 11, 12]\n",
      "[17, 17, 16, 15, 15, 15, 15, 15, 14, 13, 12, 11, 10, 9, 8, 7, 6, 7, 8, 9, 10, 11]\n",
      "[18, 18, 17, 16, 16, 15, 16, 16, 15, 14, 13, 12, 11, 10, 9, 8, 7, 6, 7, 8, 9, 10]\n",
      "[19, 19, 18, 17, 16, 16, 16, 17, 16, 15, 14, 13, 12, 11, 10, 9, 8, 7, 6, 7, 8, 9]\n",
      "[20, 20, 19, 18, 17, 17, 17, 17, 17, 16, 15, 14, 13, 12, 11, 10, 9, 8, 7, 7, 8, 9]\n",
      "[21, 21, 20, 19, 18, 18, 18, 18, 18, 17, 16, 15, 14, 13, 12, 11, 10, 9, 8, 8, 7, 8]\n",
      "[22, 22, 21, 20, 19, 19, 19, 19, 19, 18, 17, 16, 15, 14, 13, 12, 11, 10, 9, 9, 8, 7]\n"
     ]
    },
    {
     "data": {
      "text/plain": [
       "7"
      ]
     },
     "execution_count": 37,
     "metadata": {},
     "output_type": "execute_result"
    }
   ],
   "source": [
    "editDistance_bottom_up(s1,s2,len(s1),len(s2))"
   ]
  },
  {
   "cell_type": "code",
   "execution_count": null,
   "metadata": {},
   "outputs": [],
   "source": []
  }
 ],
 "metadata": {
  "hide_input": false,
  "kernelspec": {
   "display_name": "Python 3",
   "language": "python",
   "name": "python3"
  },
  "language_info": {
   "codemirror_mode": {
    "name": "ipython",
    "version": 3
   },
   "file_extension": ".py",
   "mimetype": "text/x-python",
   "name": "python",
   "nbconvert_exporter": "python",
   "pygments_lexer": "ipython3",
   "version": "3.7.3"
  },
  "toc": {
   "base_numbering": 1,
   "nav_menu": {},
   "number_sections": true,
   "sideBar": true,
   "skip_h1_title": false,
   "title_cell": "Table of Contents",
   "title_sidebar": "Contents",
   "toc_cell": false,
   "toc_position": {},
   "toc_section_display": true,
   "toc_window_display": false
  },
  "varInspector": {
   "cols": {
    "lenName": 16,
    "lenType": 16,
    "lenVar": 40
   },
   "kernels_config": {
    "python": {
     "delete_cmd_postfix": "",
     "delete_cmd_prefix": "del ",
     "library": "var_list.py",
     "varRefreshCmd": "print(var_dic_list())"
    },
    "r": {
     "delete_cmd_postfix": ") ",
     "delete_cmd_prefix": "rm(",
     "library": "var_list.r",
     "varRefreshCmd": "cat(var_dic_list()) "
    }
   },
   "types_to_exclude": [
    "module",
    "function",
    "builtin_function_or_method",
    "instance",
    "_Feature"
   ],
   "window_display": false
  }
 },
 "nbformat": 4,
 "nbformat_minor": 2
}
