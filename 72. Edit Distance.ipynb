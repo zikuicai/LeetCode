{
 "cells": [
  {
   "cell_type": "markdown",
   "metadata": {},
   "source": [
    "# 72. Edit Distance\n",
    "\n",
    "```\n",
    "Given two words word1 and word2, find the minimum number of operations required to convert word1 to word2.\n",
    "\n",
    "You have the following 3 operations permitted on a word:\n",
    "\n",
    "Insert a character\n",
    "Delete a character\n",
    "Replace a character\n",
    "\n",
    "Example 1:\n",
    "Input: word1 = \"horse\", word2 = \"ros\"\n",
    "Output: 3\n",
    "\n",
    "Example 2:\n",
    "Input: word1 = \"intention\", word2 = \"execution\"\n",
    "Output: 5\n",
    "```\n",
    "\n",
    ">Related problems:\n",
    "1035. Uncrossed Lines\n",
    "712. Minimum ASCII Delete Sum for Two Strings\n",
    "583. Delete Operation for Two Strings\n",
    "640. One Edit Distance (lint)\n"
   ]
  },
  {
   "cell_type": "code",
   "execution_count": 36,
   "metadata": {
    "ExecuteTime": {
     "end_time": "2019-04-28T20:10:22.285301Z",
     "start_time": "2019-04-28T20:10:22.280299Z"
    }
   },
   "outputs": [],
   "source": [
    "s1 = 'horse'\n",
    "s2 = 'ros'\n",
    "\n",
    "s1 = \"intention\"\n",
    "s2 = \"execution\"\n",
    "\n",
    "s1 = \"dinitrophenylhydrazine\"\n",
    "s2 = \"benzalphenylhydrazone\""
   ]
  },
  {
   "cell_type": "code",
   "execution_count": null,
   "metadata": {
    "ExecuteTime": {
     "end_time": "2019-04-28T20:09:55.953274Z",
     "start_time": "2019-04-28T20:09:55.946626Z"
    }
   },
   "outputs": [],
   "source": [
    "def editDistance(s1,s2,m,n):\n",
    "    # base case\n",
    "    if m == 0:\n",
    "        return n\n",
    "    if n == 0:\n",
    "        return m\n",
    "    # recursive relation\n",
    "    if s1[m-1] == s2[n-1]:\n",
    "        return editDistance(s1,s2,m-1,n-1)\n",
    "    else: return min(editDistance(s1,s2,m,n-1)+1,\n",
    "                     editDistance(s1,s2,m-1,n)+1,\n",
    "                     editDistance(s1,s2,m-1,n-1)+1)\n",
    "\n",
    "editDistance(s1,s2,len(s1),len(s2))"
   ]
  },
  {
   "cell_type": "markdown",
   "metadata": {},
   "source": [
    "```\n",
    "This solution goes Time Limit Exceeded\n",
    "Time Complexity: O(m x n)\n",
    "Auxiliary Space: O(m x n)\n",
    "```"
   ]
  },
  {
   "cell_type": "code",
   "execution_count": 42,
   "metadata": {},
   "outputs": [
    {
     "data": {
      "text/plain": [
       "7"
      ]
     },
     "execution_count": 42,
     "metadata": {},
     "output_type": "execute_result"
    }
   ],
   "source": [
    "def editDistance_bottom_up(s1,s2,m,n):\n",
    "    dp = [[0 for x in range(n+1)] for x in range(m+1)]\n",
    "    # memoization\n",
    "    for i in range(m+1):\n",
    "        for j in range(n+1):\n",
    "            # base case\n",
    "            if i==0:\n",
    "                dp[i][j] = j\n",
    "            elif j==0:\n",
    "                dp[i][j] = i\n",
    "            # recursive relation\n",
    "            elif s1[i-1] == s2[j-1]:\n",
    "                dp[i][j]=dp[i-1][j-1]\n",
    "            else: \n",
    "                dp[i][j]=min(dp[i][j-1]+1,\n",
    "                             dp[i-1][j]+1,\n",
    "                             dp[i-1][j-1]+1)\n",
    "#     for i in dp:\n",
    "#         print(i)\n",
    "    return dp[m][n]\n",
    "\n",
    "editDistance_bottom_up(s1,s2,len(s1),len(s2))"
   ]
  },
  {
   "cell_type": "markdown",
   "metadata": {},
   "source": [
    "```python\n",
    "Time Complexity: O(m x n)\n",
    "Auxiliary Space: O(m x n)\n",
    "    \n",
    "Runtime: 216 ms, faster than 40.88% of Python3 online submissions for Edit Distance.\n",
    "Memory Usage: 16.9 MB, less than 15.76% of Python3 online submissions for Edit Distance.\n",
    "```"
   ]
  },
  {
   "cell_type": "code",
   "execution_count": 39,
   "metadata": {},
   "outputs": [
    {
     "data": {
      "text/plain": [
       "7"
      ]
     },
     "execution_count": 39,
     "metadata": {},
     "output_type": "execute_result"
    }
   ],
   "source": [
    "# shortest runtime 76ms\n",
    "import heapq\n",
    "def minDistance(word1, word2):\n",
    "    heap = [(0,word1,word2)]\n",
    "    seen = set()\n",
    "    n = 0\n",
    "    while heap:\n",
    "        dis, w1, w2 = heapq.heappop(heap)\n",
    "        if w1 == w2: return dis\n",
    "        if not (w1,w2) in seen:\n",
    "            seen.add((w1,w2))\n",
    "            while w1 and w2 and w1[-1]==w2[-1]:\n",
    "                w1 = w1[:-1]\n",
    "                w2 = w2[:-1]\n",
    "            else:\n",
    "                heapq.heappush(heap,(dis+1,w1[:-1],w2))\n",
    "                if w2:\n",
    "                    heapq.heappush(heap,(dis+1,w1,w2[:-1]))\n",
    "                if w1 and w2:\n",
    "                    heapq.heappush(heap,(dis+1,w1[:-1],w2[:-1]))\n",
    "    return heapq.heappop(heap)\n",
    "\n",
    "minDistance(s1, s2)"
   ]
  },
  {
   "cell_type": "code",
   "execution_count": 40,
   "metadata": {},
   "outputs": [
    {
     "data": {
      "text/plain": [
       "7"
      ]
     },
     "execution_count": 40,
     "metadata": {},
     "output_type": "execute_result"
    }
   ],
   "source": [
    "# lowest memory 12MB\n",
    "def minDistance(word1, word2):\n",
    "    len1 = len(word1)\n",
    "    len2 = len(word2)\n",
    "    prev_costs = list(range(len2 + 1))\n",
    "    curr_costs = prev_costs.copy()\n",
    "\n",
    "    for p1 in range(1, len1 + 1):\n",
    "        curr_costs[0] = p1\n",
    "        for p2 in range(1, len2 + 1):                    \n",
    "            if word1[p1 - 1] == word2[p2 - 1]:\n",
    "                curr_costs[p2] = prev_costs[p2 - 1]\n",
    "                continue\n",
    "\n",
    "            replace_cost = prev_costs[p2 - 1] + 1\n",
    "            insert_cost = prev_costs[p2] + 1\n",
    "            delete_cost = curr_costs[p2 - 1] + 1\n",
    "\n",
    "            curr_costs[p2] = min(replace_cost, insert_cost, delete_cost)\n",
    "\n",
    "        temp = prev_costs\n",
    "        prev_costs = curr_costs\n",
    "        curr_costs = temp\n",
    "\n",
    "    return prev_costs[len2]\n",
    "\n",
    "minDistance(s1,s2)"
   ]
  },
  {
   "cell_type": "code",
   "execution_count": null,
   "metadata": {},
   "outputs": [],
   "source": []
  }
 ],
 "metadata": {
  "hide_input": false,
  "kernelspec": {
   "display_name": "Python 3",
   "language": "python",
   "name": "python3"
  },
  "language_info": {
   "codemirror_mode": {
    "name": "ipython",
    "version": 3
   },
   "file_extension": ".py",
   "mimetype": "text/x-python",
   "name": "python",
   "nbconvert_exporter": "python",
   "pygments_lexer": "ipython3",
   "version": "3.7.3"
  },
  "toc": {
   "base_numbering": 1,
   "nav_menu": {},
   "number_sections": true,
   "sideBar": true,
   "skip_h1_title": false,
   "title_cell": "Table of Contents",
   "title_sidebar": "Contents",
   "toc_cell": false,
   "toc_position": {},
   "toc_section_display": true,
   "toc_window_display": false
  },
  "varInspector": {
   "cols": {
    "lenName": 16,
    "lenType": 16,
    "lenVar": 40
   },
   "kernels_config": {
    "python": {
     "delete_cmd_postfix": "",
     "delete_cmd_prefix": "del ",
     "library": "var_list.py",
     "varRefreshCmd": "print(var_dic_list())"
    },
    "r": {
     "delete_cmd_postfix": ") ",
     "delete_cmd_prefix": "rm(",
     "library": "var_list.r",
     "varRefreshCmd": "cat(var_dic_list()) "
    }
   },
   "types_to_exclude": [
    "module",
    "function",
    "builtin_function_or_method",
    "instance",
    "_Feature"
   ],
   "window_display": false
  }
 },
 "nbformat": 4,
 "nbformat_minor": 2
}
