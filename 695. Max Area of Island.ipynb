{
 "cells": [
  {
   "cell_type": "markdown",
   "metadata": {},
   "source": [
    "# [695. Max Area of Island](https://leetcode.com/problems/max-area-of-island/)\n",
    "\n",
    "```\n",
    "Given a non-empty 2D array grid of 0's and 1's, an island is a group of 1's (representing land) connected 4-directionally (horizontal or vertical.) You may assume all four edges of the grid are surrounded by water.\n",
    "\n",
    "Find the maximum area of an island in the given 2D array. (If there is no island, the maximum area is 0.)\n",
    "\n",
    "Example:\n",
    "\n",
    "[[0,0,1,0,0,0,0,1,0,0,0,0,0],\n",
    " [0,0,0,0,0,0,0,1,1,1,0,0,0],\n",
    " [0,1,1,0,1,0,0,0,0,0,0,0,0],\n",
    " [0,1,0,0,1,1,0,0,1,0,1,0,0],\n",
    " [0,1,0,0,1,1,0,0,1,1,1,0,0],\n",
    " [0,0,0,0,0,0,0,0,0,0,1,0,0],\n",
    " [0,0,0,0,0,0,0,1,1,1,0,0,0],\n",
    " [0,0,0,0,0,0,0,1,1,0,0,0,0]]\n",
    " \n",
    "Given the above grid, return 6.\n",
    "```\n",
    "\n",
    "> Related problems:\n",
    "200. Number of Islands"
   ]
  },
  {
   "cell_type": "code",
   "execution_count": 1,
   "metadata": {
    "ExecuteTime": {
     "end_time": "2019-03-25T16:50:28.567769Z",
     "start_time": "2019-03-25T16:50:28.466492Z"
    }
   },
   "outputs": [],
   "source": [
    "a0 = [[0, 1], [1, 1]]\n",
    "# 3\n",
    "\n",
    "a1 = [[1, 1, 0, 0, 0], [1, 1, 0, 0, 0], [0, 0, 0, 1, 1], [0, 0, 0, 1, 1]]\n",
    "# 4\n",
    "\n",
    "a2 =    [[0, 0, 1, 0, 0, 0, 0, 1, 0, 0, 0, 0, 0],\n",
    "         [0, 0, 0, 0, 0, 0, 0, 1, 1, 1, 0, 0, 0],\n",
    "         [0, 1, 1, 0, 1, 0, 0, 0, 0, 0, 0, 0, 0],\n",
    "         [0, 1, 0, 0, 1, 1, 0, 0, 1, 0, 1, 0, 0],\n",
    "         [0, 1, 0, 0, 1, 1, 0, 0, 1, 1, 1, 0, 0],\n",
    "         [0, 0, 0, 0, 0, 0, 0, 0, 0, 0, 1, 0, 0],\n",
    "         [0, 0, 0, 0, 0, 0, 0, 1, 1, 1, 0, 0, 0],\n",
    "         [0, 0, 0, 0, 0, 0, 0, 1, 1, 0, 0, 0, 0]]\n",
    "# 6\n",
    "\n",
    "a3 = [[0, 1, 1, 1, 1, 1, 0, 1, 1, 0, 1, 1, 1, 1, 1, 1], [0, 0, 0, 0, 0, 1, 1, 1, 1, 1, 0, 1, 1, 1, 0, 1], [1, 0, 1, 0, 0, 0, 0, 1, 0, 0, 0, 1, 1, 1, 0, 1], [1, 1, 1, 1, 1, 0, 1, 0, 0, 0, 0, 1, 0, 0, 1, 1], [0, 1, 0, 0, 1, 1, 1, 1, 1, 1, 0, 0, 1, 1, 1, 1], [0, 1, 0, 1, 0, 0, 1, 0, 0, 1, 1, 1, 0, 1, 0, 0], [0, 0, 0, 1, 1, 1, 1, 1, 0, 0, 1, 0, 0, 0, 0, 1], [0, 1, 1, 1, 0, 1, 1, 0, 1, 0, 0, 0, 0, 0, 0, 1], [1, 1, 0, 1, 0, 0, 0, 1, 0, 0, 1, 1, 0, 1, 1, 0], [1, 1, 0, 1, 1, 1, 0, 0, 1, 1, 0, 1, 0, 0, 1, 0], [1, 0, 1, 0, 1, 0, 0, 0, 1, 1, 0, 0, 0, 0, 1, 0], [0, 0, 1, 1, 1, 0, 1, 1, 0, 1, 1, 1, 1, 1, 0, 0], [1, 1, 0, 0, 0, 1, 1, 1, 0, 1, 0, 1, 1, 1, 1, 1], [0, 0, 0, 1, 1, 1, 0, 1, 0, 1, 0, 0, 0, 1, 0, 1], [0, 1, 0, 1, 1, 0, 1, 0, 0, 0, 0, 0, 1, 0, 1, 1], [1, 1, 0, 0, 1, 0, 0, 1, 0, 1, 0, 0, 0, 1, 1, 0], [1, 1, 0, 0, 1, 1, 0, 0, 1, 0, 0, 1, 0, 0, 1, 0], [0, 1, 1, 1, 0, 0, 1, 0, 1, 1, 1, 0, 1, 0, 1, 0], [0, 1, 0, 0, 0, 1, 1, 0, 0, 1, 0, 1, 0, 1, 0, 0], [0, 1, 0, 1, 1, 0, 1, 0, 1, 0, 1, 1, 1, 1, 0, 0], [0, 1, 0, 1, 0, 0, 1, 1, 1, 0, 0, 1, 0, 0, 0, 1], [1, 1, 0, 1, 1, 0, 1, 1, 0, 0, 0, 1, 0, 0, 0, 0], [1, 0, 0, 1, 0, 1, 0, 0, 0, 0, 1, 1, 1, 1, 1, 1], [0, 0, 0, 1, 1, 1, 0, 1, 0, 0, 1, 1, 1, 1, 0, 0], [0, 0, 1, 1, 1, 1, 0, 0, 0, 1, 1, 1, 1, 0, 0, 0], [\n",
    "    0, 0, 0, 1, 1, 1, 1, 1, 1, 1, 0, 1, 0, 0, 0, 0], [1, 1, 1, 1, 0, 1, 0, 0, 0, 1, 0, 0, 0, 0, 1, 0], [0, 1, 1, 1, 1, 0, 1, 1, 1, 0, 1, 0, 0, 1, 1, 0], [0, 0, 1, 1, 0, 0, 0, 1, 1, 1, 1, 0, 1, 1, 1, 1], [1, 1, 0, 1, 0, 0, 0, 1, 1, 0, 1, 1, 0, 1, 0, 0], [1, 0, 0, 1, 0, 0, 0, 1, 1, 0, 0, 0, 0, 0, 0, 1], [1, 1, 0, 0, 0, 1, 1, 1, 1, 1, 1, 0, 0, 0, 0, 1], [1, 0, 1, 0, 0, 0, 1, 0, 0, 0, 1, 0, 1, 1, 1, 0], [1, 1, 0, 0, 1, 1, 0, 0, 0, 0, 1, 0, 0, 0, 1, 1], [0, 0, 1, 0, 0, 1, 1, 0, 1, 0, 1, 0, 0, 0, 1, 1], [0, 0, 1, 1, 1, 1, 1, 0, 1, 1, 0, 1, 1, 0, 0, 1], [1, 1, 0, 0, 1, 0, 0, 1, 0, 0, 1, 1, 1, 1, 0, 1], [1, 0, 1, 1, 1, 1, 0, 1, 1, 0, 1, 1, 0, 0, 1, 1], [1, 0, 0, 1, 0, 1, 0, 1, 1, 1, 1, 0, 0, 0, 1, 1], [0, 1, 0, 0, 0, 0, 0, 0, 1, 0, 0, 1, 1, 1, 1, 0], [0, 1, 1, 0, 0, 0, 0, 1, 0, 0, 0, 0, 0, 0, 0, 0], [0, 0, 1, 0, 0, 0, 0, 1, 0, 0, 1, 1, 1, 1, 1, 0], [0, 0, 0, 0, 1, 0, 0, 1, 1, 1, 1, 1, 0, 0, 1, 0], [0, 0, 1, 1, 1, 0, 1, 0, 0, 0, 0, 0, 1, 1, 1, 1], [1, 0, 0, 0, 1, 1, 0, 1, 0, 1, 0, 0, 0, 0, 0, 1], [0, 1, 1, 0, 0, 1, 0, 0, 0, 0, 0, 1, 1, 1, 0, 1], [0, 1, 1, 1, 0, 1, 0, 1, 1, 0, 0, 0, 1, 1, 1, 1], [0, 0, 0, 1, 0, 0, 1, 1, 0, 1, 1, 1, 0, 1, 1, 0], [0, 0, 1, 0, 0, 0, 1, 1, 0, 1, 0, 1, 0, 1, 1, 0], [1, 0, 0, 0, 0, 0, 0, 1, 0, 1, 0, 0, 0, 1, 1, 0]]\n",
    "# 58\n",
    "\n",
    "a4 = [[\"1\",\"1\",\"0\",\"0\",\"0\"],[\"1\",\"1\",\"0\",\"0\",\"0\"],[\"0\",\"0\",\"1\",\"0\",\"0\"],[\"0\",\"0\",\"0\",\"1\",\"1\"]]\n",
    "\n",
    "import copy"
   ]
  },
  {
   "cell_type": "code",
   "execution_count": 5,
   "metadata": {
    "ExecuteTime": {
     "end_time": "2019-03-25T17:02:21.050575Z",
     "start_time": "2019-03-25T17:02:21.026788Z"
    }
   },
   "outputs": [
    {
     "name": "stdout",
     "output_type": "stream",
     "text": [
      "58\n"
     ]
    }
   ],
   "source": [
    "grid = copy.deepcopy(a3)\n",
    "\n",
    "# dfs interative\n",
    "m,n = len(grid),len(grid[0])\n",
    "seen = set()\n",
    "max_size = 0\n",
    "\n",
    "for i in range(m):\n",
    "    for j in range(n):\n",
    "        if grid[i][j]:\n",
    "            size = 1\n",
    "            stack = [(i,j)]\n",
    "            seen.add((i,j))\n",
    "            while(stack):\n",
    "                r,c = stack.pop()\n",
    "                for nr,nc in (r-1,c), (r+1,c), (r,c-1), (r,c+1):\n",
    "                    if 0<=nr<m and 0<=nc<n and grid[nr][nc] and (nr,nc) not in seen:\n",
    "                        size += 1\n",
    "                        stack.append((nr,nc))\n",
    "                        seen.add((nr,nc))\n",
    "            max_size = max(size, max_size)\n",
    "\n",
    "print(max_size)"
   ]
  },
  {
   "cell_type": "code",
   "execution_count": 4,
   "metadata": {
    "ExecuteTime": {
     "end_time": "2019-03-19T15:37:29.626913Z",
     "start_time": "2019-03-19T15:37:29.608546Z"
    }
   },
   "outputs": [
    {
     "name": "stdout",
     "output_type": "stream",
     "text": [
      "58\n",
      "[13, 22, 46, 2, 1, 1, 3, 4, 24, 14, 2, 14, 1, 1, 1, 1, 5, 1, 10, 1, 58, 1, 1, 8, 24, 8, 2, 1, 17, 17, 3, 16, 4, 4, 32, 8, 1, 1, 1, 1, 6, 7, 6, 1, 1]\n"
     ]
    }
   ],
   "source": [
    "''' DFS (Recursive)\n",
    "    Time: O(m*n) \n",
    "    Space: in-space\n",
    "    \n",
    "    Pros:\n",
    "    Simple and clean.\n",
    "    It can be used in the situation that the unit value of the island is not 1.\n",
    "    \n",
    "    Cons:\n",
    "    It may have too many recursions, leetcode will give you an error.\n",
    "    \n",
    "    Runtime: 96 ms, faster than 81.72% of Python3 online submissions for Max Area of Island.\n",
    "    Memory Usage: 16.2 MB, less than 14.39% of Python3 online submissions for Max Area of Island.\n",
    "'''\n",
    "\n",
    "grid = copy.deepcopy(a3)\n",
    "m, n = len(grid), len(grid[0])\n",
    "\n",
    "def dfs(i, j):\n",
    "    if 0 <= i < m and 0 <= j < n and grid[i][j]:\n",
    "        grid[i][j] = 0\n",
    "        return 1 + dfs(i - 1, j) + dfs(i, j + 1) + dfs(i + 1, j) + dfs(i, j - 1)\n",
    "    return 0\n",
    "\n",
    "areas = [dfs(i, j) for i in range(m) for j in range(n) if grid[i][j]]\n",
    "\n",
    "print(max(areas))\n",
    "print(areas)"
   ]
  },
  {
   "cell_type": "code",
   "execution_count": 5,
   "metadata": {
    "ExecuteTime": {
     "end_time": "2019-03-19T15:38:09.468301Z",
     "start_time": "2019-03-19T15:38:09.453758Z"
    }
   },
   "outputs": [
    {
     "data": {
      "text/plain": [
       "58"
      ]
     },
     "execution_count": 5,
     "metadata": {},
     "output_type": "execute_result"
    }
   ],
   "source": [
    "grid = copy.deepcopy(a3)\n",
    "m,n = len(grid),len(grid[0])\n",
    "\n",
    "def dfs(i,j):\n",
    "    if 0<=i<m and 0<=j<n and grid[i][j]:\n",
    "        grid[i][j] = 0\n",
    "        return 1 + dfs(i+1,j) + dfs(i-1,j) + dfs(i,j-1) + dfs(i,j+1)\n",
    "    return 0\n",
    "\n",
    "return max([dfs(i,j) for i in range(m) for j in range(n) if grid[i][j]])"
   ]
  },
  {
   "cell_type": "code",
   "execution_count": 21,
   "metadata": {
    "ExecuteTime": {
     "end_time": "2019-03-18T03:21:46.103811Z",
     "start_time": "2019-03-18T03:21:46.076646Z"
    }
   },
   "outputs": [
    {
     "name": "stdout",
     "output_type": "stream",
     "text": [
      "[['1', '1', '0', '0', '0'], ['1', '1', '0', '0', '0'], ['0', '0', '1', '0', '0'], ['0', '0', '0', '1', '1']]\n",
      "{(0, 0): (0, 4), (0, 1): (1, 0), (0, 2): (1, 1), (0, 3): (1, 2), (0, 4): (1, 3), (1, 0): (1, 4), (1, 1): (2, 0), (1, 2): (2, 1), (1, 3): (2, 2), (1, 4): (2, 3), (2, 0): (2, 4), (2, 1): (3, 0), (2, 2): (3, 1), (2, 3): (3, 2), (2, 4): (3, 3), (3, 0): (3, 1), (3, 1): (3, 2), (3, 2): (3, 3), (3, 3): (3, 4), (3, 4): (3, 4)}\n"
     ]
    },
    {
     "data": {
      "text/plain": [
       "1"
      ]
     },
     "execution_count": 21,
     "metadata": {},
     "output_type": "execute_result"
    }
   ],
   "source": [
    "''' Union Find \n",
    "    Time: O(m*n)\n",
    "    Space: 2 dicts of size m*n\n",
    "    \n",
    "    \n",
    "    Runtime: 100 ms, faster than 30.52% of Python3 online submissions for Number of Islands.\n",
    "    Memory Usage: 17.1 MB, less than 10.98% of Python3 online submissions for Number of Islands.\n",
    "    \n",
    "'''\n",
    "\n",
    "grid = copy.deepcopy(a4)\n",
    "print(grid)\n",
    "# in the parent dictionary\n",
    "\n",
    "parent, area = {}, {}\n",
    "\n",
    "def find(x):\n",
    "    if x not in parent:\n",
    "        return None\n",
    "    if parent[x] != x:\n",
    "        parent[x] = find(parent[x])\n",
    "    return parent[x]\n",
    "\n",
    "def union(x, y):\n",
    "    rx, ry = find(x), find(y)\n",
    "    if rx and ry and rx != ry:\n",
    "        parent[rx] = ry\n",
    "        area[ry] += area[rx]\n",
    "\n",
    "for i in range(len(grid)):\n",
    "    for j in range(len(grid[0])):\n",
    "        if grid[i][j]:\n",
    "            x = (i, j)\n",
    "            parent[x] = x\n",
    "            area[x] = 1\n",
    "            union((i-1, j), x)\n",
    "            union((i, j-1), x)\n",
    "            \n",
    "print(parent)\n",
    "count = 0\n",
    "for k,v in parent.items():\n",
    "    if k == v:\n",
    "        count += 1\n",
    "\n",
    "return count\n",
    "# return max(area.values(), default=0)\n",
    "\n"
   ]
  },
  {
   "cell_type": "code",
   "execution_count": 26,
   "metadata": {
    "ExecuteTime": {
     "end_time": "2019-03-18T03:50:06.501110Z",
     "start_time": "2019-03-18T03:50:06.480217Z"
    }
   },
   "outputs": [
    {
     "name": "stdout",
     "output_type": "stream",
     "text": [
      "58\n"
     ]
    }
   ],
   "source": [
    "''' DFS (Iterative)\n",
    "    \n",
    "'''\n",
    "grid = copy.deepcopy(a3)\n",
    "\n",
    "seen = set()\n",
    "ans = 0\n",
    "for m, row in enumerate(grid):\n",
    "    for n, val in enumerate(row):\n",
    "        if val and (m, n) not in seen:\n",
    "            shape = 0\n",
    "            stack = [(m, n)]\n",
    "            seen.add((m, n))\n",
    "            while stack:\n",
    "                r, c = stack.pop()\n",
    "                shape += 1\n",
    "                for nr, nc in ((r-1, c), (r+1, c), (r, c-1), (r, c+1)):\n",
    "                    if (0 <= nr < len(grid) and 0 <= nc < len(grid[0])\n",
    "                            and grid[nr][nc] and (nr, nc) not in seen):\n",
    "                        stack.append((nr, nc))\n",
    "                        seen.add((nr, nc))\n",
    "            ans = max(ans, shape)\n",
    "print(ans)\n"
   ]
  },
  {
   "cell_type": "code",
   "execution_count": 54,
   "metadata": {
    "ExecuteTime": {
     "end_time": "2019-03-17T23:47:50.815408Z",
     "start_time": "2019-03-17T23:47:50.797974Z"
    }
   },
   "outputs": [
    {
     "data": {
      "text/plain": [
       "58"
      ]
     },
     "execution_count": 54,
     "metadata": {},
     "output_type": "execute_result"
    }
   ],
   "source": [
    "''' BFS \n",
    "    Time: \n",
    "    Space: \n",
    "'''\n",
    "\n",
    "grid = copy.deepcopy(a3)\n",
    "from collections import deque\n",
    "n, m = len(grid), len(grid[0])\n",
    "\n",
    "def has_one(i, j):\n",
    "    return 0 <= i < n and 0 <= j < m and grid[i][j]\n",
    "\n",
    "def bfs(i, j):\n",
    "    if not has_one(i, j): return 0\n",
    "    que, area, grid[i][j] = deque([(i, j)]), 1, 0\n",
    "    while que:\n",
    "        i, j = que.popleft()\n",
    "        for ni, nj in ((i-1, j), (i+1, j), (i, j-1), (i, j+1)):\n",
    "            if has_one(ni, nj):\n",
    "                grid[ni][nj] = 0\n",
    "                area += 1\n",
    "                que.append((ni, nj))\n",
    "    return area\n",
    "return max((bfs(i, j) for i in range(n) for j in range(m)), default=0)"
   ]
  },
  {
   "cell_type": "code",
   "execution_count": 36,
   "metadata": {
    "ExecuteTime": {
     "end_time": "2019-03-17T22:53:48.753924Z",
     "start_time": "2019-03-17T22:53:48.743246Z"
    }
   },
   "outputs": [
    {
     "data": {
      "text/plain": [
       "4"
      ]
     },
     "execution_count": 36,
     "metadata": {},
     "output_type": "execute_result"
    }
   ],
   "source": [
    "''' Complex number\n",
    "\n",
    "\n",
    "    comment: You are the kind of people that write unmaintainable code and got fired. lol\n",
    "'''\n",
    "\n",
    "grid = copy.deepcopy(a1)\n",
    "\n",
    "def maxAreaOfIsland(grid=grid):\n",
    "    grid = {i + j*1j: val for i, row in enumerate(grid) for j, val in enumerate(row)}\n",
    "    def area(z):\n",
    "        return grid.pop(z, 0) and 1 + sum(area(z + 1j**k) for k in range(4))\n",
    "    \n",
    "    return max(map(area, set(grid)))\n",
    "\n",
    "maxAreaOfIsland()"
   ]
  },
  {
   "cell_type": "code",
   "execution_count": null,
   "metadata": {},
   "outputs": [],
   "source": []
  },
  {
   "cell_type": "markdown",
   "metadata": {},
   "source": [
    "# 463. Island Perimeter\n",
    "\n",
    "```\n",
    "Input:\n",
    "[[0,1,0,0],\n",
    " [1,1,1,0],\n",
    " [0,1,0,0],\n",
    " [1,1,0,0]]\n",
    "\n",
    "Output: 16\n",
    "```"
   ]
  },
  {
   "cell_type": "code",
   "execution_count": 48,
   "metadata": {
    "ExecuteTime": {
     "end_time": "2019-03-20T06:29:47.093335Z",
     "start_time": "2019-03-20T06:29:47.088904Z"
    }
   },
   "outputs": [],
   "source": [
    "grid =[[0,1,0,0],\n",
    " [1,1,1,0],\n",
    " [0,1,0,0],\n",
    " [1,1,0,0]]"
   ]
  },
  {
   "cell_type": "code",
   "execution_count": 52,
   "metadata": {
    "ExecuteTime": {
     "end_time": "2019-03-20T06:30:31.036874Z",
     "start_time": "2019-03-20T06:30:31.026291Z"
    }
   },
   "outputs": [
    {
     "data": {
      "text/plain": [
       "16"
      ]
     },
     "execution_count": 52,
     "metadata": {},
     "output_type": "execute_result"
    }
   ],
   "source": [
    "def islandPerimeter(grid):\n",
    "    area = 0\n",
    "    for row in grid + list(map(list, zip(*grid))):\n",
    "        for i1, i2 in zip([0] + row, row + [0]):\n",
    "            area += int(i1 != i2)\n",
    "    return area\n",
    "\n",
    "islandPerimeter(grid)"
   ]
  },
  {
   "cell_type": "code",
   "execution_count": 51,
   "metadata": {
    "ExecuteTime": {
     "end_time": "2019-03-20T06:30:28.802327Z",
     "start_time": "2019-03-20T06:30:28.788618Z"
    }
   },
   "outputs": [
    {
     "data": {
      "text/plain": [
       "16"
      ]
     },
     "execution_count": 51,
     "metadata": {},
     "output_type": "execute_result"
    }
   ],
   "source": [
    "def islandPerimeter(g):\n",
    "        ans = 0\n",
    "        for i, r in enumerate(g):\n",
    "            for j, c in enumerate(r):\n",
    "                if c: \n",
    "                    ans += 4                \n",
    "                    if i > 0 and g[i-1][j]: ans -= 2\n",
    "                    if j > 0 and g[i][j-1]: ans -= 2                                    \n",
    "        return ans \n",
    "    \n",
    "islandPerimeter(grid)"
   ]
  },
  {
   "cell_type": "code",
   "execution_count": null,
   "metadata": {},
   "outputs": [],
   "source": []
  },
  {
   "cell_type": "markdown",
   "metadata": {},
   "source": [
    "# 827. Making A Large Island\n",
    "\n",
    "```\n",
    "In a 2D grid of 0s and 1s, we change at most one 0 to a 1.\n",
    "\n",
    "After, what is the size of the largest island? \n",
    "(An island is a 4-directionally connected group of 1s).\n",
    "\n",
    "Example:\n",
    "\n",
    "Input: [[1, 0], \n",
    "        [0, 1]]\n",
    "Output: 3\n",
    "Explanation: Change one 0 to 1 and connect two 1s, then we get an island with area = 3.\n",
    "```"
   ]
  },
  {
   "cell_type": "code",
   "execution_count": 57,
   "metadata": {
    "ExecuteTime": {
     "end_time": "2019-03-20T22:14:24.046446Z",
     "start_time": "2019-03-20T22:14:24.041084Z"
    }
   },
   "outputs": [
    {
     "data": {
      "text/plain": [
       "[[1, 0], [0, 1]]"
      ]
     },
     "execution_count": 57,
     "metadata": {},
     "output_type": "execute_result"
    }
   ],
   "source": [
    " [[1, 0], \n",
    "        [0, 1]]"
   ]
  },
  {
   "cell_type": "code",
   "execution_count": null,
   "metadata": {},
   "outputs": [],
   "source": [
    "# can run union-find and traverse all 0s and find the max(sum(neighbors))\n"
   ]
  }
 ],
 "metadata": {
  "hide_input": false,
  "kernelspec": {
   "display_name": "Python 3",
   "language": "python",
   "name": "python3"
  },
  "language_info": {
   "codemirror_mode": {
    "name": "ipython",
    "version": 3
   },
   "file_extension": ".py",
   "mimetype": "text/x-python",
   "name": "python",
   "nbconvert_exporter": "python",
   "pygments_lexer": "ipython3",
   "version": "3.7.2"
  },
  "toc": {
   "base_numbering": 1,
   "nav_menu": {},
   "number_sections": false,
   "sideBar": true,
   "skip_h1_title": false,
   "title_cell": "Table of Contents",
   "title_sidebar": "Contents",
   "toc_cell": false,
   "toc_position": {},
   "toc_section_display": true,
   "toc_window_display": false
  },
  "varInspector": {
   "cols": {
    "lenName": 16,
    "lenType": 16,
    "lenVar": 40
   },
   "kernels_config": {
    "python": {
     "delete_cmd_postfix": "",
     "delete_cmd_prefix": "del ",
     "library": "var_list.py",
     "varRefreshCmd": "print(var_dic_list())"
    },
    "r": {
     "delete_cmd_postfix": ") ",
     "delete_cmd_prefix": "rm(",
     "library": "var_list.r",
     "varRefreshCmd": "cat(var_dic_list()) "
    }
   },
   "types_to_exclude": [
    "module",
    "function",
    "builtin_function_or_method",
    "instance",
    "_Feature"
   ],
   "window_display": false
  }
 },
 "nbformat": 4,
 "nbformat_minor": 2
}
