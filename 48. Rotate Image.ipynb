{
 "cells": [
  {
   "cell_type": "markdown",
   "metadata": {},
   "source": [
    "# [48. Rotate Image](https://leetcode.com/problems/rotate-image/)\n",
    "\n",
    "```\n",
    "You are given an n x n 2D matrix representing an image.\n",
    "\n",
    "Rotate the image by 90 degrees (clockwise).\n",
    "\n",
    "Note:\n",
    "\n",
    "You have to rotate the image in-place, which means you have to modify the input 2D matrix directly. DO NOT allocate another 2D matrix and do the rotation.\n",
    "\n",
    "Given input matrix = \n",
    "[\n",
    "  [1,2,3],\n",
    "  [4,5,6],\n",
    "  [7,8,9]\n",
    "],\n",
    "\n",
    "rotate the input matrix in-place such that it becomes:\n",
    "[\n",
    "  [7,4,1],\n",
    "  [8,5,2],\n",
    "  [9,6,3]\n",
    "]\n",
    "\n",
    "```\n"
   ]
  },
  {
   "cell_type": "code",
   "execution_count": 5,
   "metadata": {
    "ExecuteTime": {
     "end_time": "2019-03-20T06:06:02.580196Z",
     "start_time": "2019-03-20T06:06:02.570359Z"
    }
   },
   "outputs": [],
   "source": [
    "a=[[1,2,3],\n",
    "  [4,5,6],\n",
    "  [7,8,9]]\n",
    "\n",
    "from copy import deepcopy\n",
    "from math import ceil"
   ]
  },
  {
   "cell_type": "code",
   "execution_count": 6,
   "metadata": {
    "ExecuteTime": {
     "end_time": "2019-03-20T06:06:02.991974Z",
     "start_time": "2019-03-20T06:06:02.978128Z"
    }
   },
   "outputs": [
    {
     "name": "stdout",
     "output_type": "stream",
     "text": [
      "[1, 2, 3]\n",
      "[4, 5, 6]\n",
      "[7, 8, 9]\n",
      "\n",
      "[7, 4, 1]\n",
      "[8, 5, 2]\n",
      "[9, 6, 3]\n"
     ]
    }
   ],
   "source": [
    "''' transpose and then flip around the central axis\n",
    "\n",
    "    Runtime: 56 ms, faster than 15.96% of Python3 online submissions for Rotate Image.\n",
    "    Memory Usage: 13.2 MB, less than 5.35% of Python3 online submissions for Rotate Image.\n",
    "'''\n",
    "\n",
    "\n",
    "matrix = deepcopy(a)\n",
    "for row in matrix:\n",
    "    print(row)\n",
    "\n",
    "print('')\n",
    "\n",
    "m,n = len(matrix),len(matrix[0])\n",
    "\n",
    "# one line to transpose\n",
    "matrix = list(map(list, zip(*matrix)))\n",
    "# for i in range(m):\n",
    "#     for j in range(i,n):\n",
    "#         matrix[i][j], matrix[j][i] = matrix[j][i], matrix[i][j]\n",
    "\n",
    "for i in range(m):\n",
    "    for j in range(ceil(n/2)):\n",
    "        matrix[i][j], matrix[i][n-j-1] = matrix[i][n-j-1], matrix[i][j]\n",
    "        \n",
    "for row in matrix:\n",
    "    print(row)"
   ]
  },
  {
   "cell_type": "code",
   "execution_count": 35,
   "metadata": {
    "ExecuteTime": {
     "end_time": "2019-03-18T04:32:27.606380Z",
     "start_time": "2019-03-18T04:32:27.597756Z"
    }
   },
   "outputs": [
    {
     "data": {
      "text/plain": [
       "2"
      ]
     },
     "execution_count": 35,
     "metadata": {},
     "output_type": "execute_result"
    }
   ],
   "source": [
    "from math import ceil\n",
    "ceil(1.5)"
   ]
  },
  {
   "cell_type": "code",
   "execution_count": 45,
   "metadata": {
    "ExecuteTime": {
     "end_time": "2019-03-18T04:45:54.860218Z",
     "start_time": "2019-03-18T04:45:54.854895Z"
    }
   },
   "outputs": [
    {
     "data": {
      "text/plain": [
       "2"
      ]
     },
     "execution_count": 45,
     "metadata": {},
     "output_type": "execute_result"
    }
   ],
   "source": [
    "int(2.1+0.5)"
   ]
  },
  {
   "cell_type": "code",
   "execution_count": 2,
   "metadata": {},
   "outputs": [
    {
     "data": {
      "text/plain": [
       "'23'"
      ]
     },
     "execution_count": 2,
     "metadata": {},
     "output_type": "execute_result"
    }
   ],
   "source": [
    "a = '123'\n",
    "a[1:]"
   ]
  },
  {
   "cell_type": "code",
   "execution_count": 21,
   "metadata": {},
   "outputs": [],
   "source": [
    "import random\n",
    "data = ['1.jpg 中国人','2.jpg 日本人','3.jpg 美国人']\n",
    "train = []\n",
    "test = []\n",
    "n = len(data)\n",
    "dic = {}\n",
    "count = 0\n",
    "train_num = int(n*0.8)\n",
    "train_count = 0\n",
    "for item in data:\n",
    "    img_name,img_gt = item.split(' ')\n",
    "    for c in img_gt:\n",
    "        if not c in dic:\n",
    "            dic[c] = str(count)\n",
    "            count += 1\n",
    "\n",
    "random.shuffle(data)\n",
    "for item in data:\n",
    "    img_name,img_gt = item.split(' ')\n",
    "    l = img_name + ' '\n",
    "    for c in img_gt:\n",
    "        l += dic[c]\n",
    "    if train_count < train_num:\n",
    "        train.append(l)\n",
    "        train_count += 1\n",
    "    else: test.append(l)\n"
   ]
  },
  {
   "cell_type": "code",
   "execution_count": 22,
   "metadata": {},
   "outputs": [
    {
     "data": {
      "text/plain": [
       "['1.jpg 012', '3.jpg 512']"
      ]
     },
     "execution_count": 22,
     "metadata": {},
     "output_type": "execute_result"
    }
   ],
   "source": [
    "train"
   ]
  },
  {
   "cell_type": "code",
   "execution_count": 23,
   "metadata": {},
   "outputs": [
    {
     "data": {
      "text/plain": [
       "['2.jpg 342']"
      ]
     },
     "execution_count": 23,
     "metadata": {},
     "output_type": "execute_result"
    }
   ],
   "source": [
    "test"
   ]
  },
  {
   "cell_type": "code",
   "execution_count": 15,
   "metadata": {},
   "outputs": [
    {
     "data": {
      "text/plain": [
       "2"
      ]
     },
     "execution_count": 15,
     "metadata": {},
     "output_type": "execute_result"
    }
   ],
   "source": [
    "int(3*0.8)"
   ]
  },
  {
   "cell_type": "code",
   "execution_count": null,
   "metadata": {},
   "outputs": [],
   "source": []
  }
 ],
 "metadata": {
  "hide_input": false,
  "kernelspec": {
   "display_name": "Python 3",
   "language": "python",
   "name": "python3"
  },
  "language_info": {
   "codemirror_mode": {
    "name": "ipython",
    "version": 3
   },
   "file_extension": ".py",
   "mimetype": "text/x-python",
   "name": "python",
   "nbconvert_exporter": "python",
   "pygments_lexer": "ipython3",
   "version": "3.7.3"
  },
  "toc": {
   "base_numbering": 1,
   "nav_menu": {},
   "number_sections": true,
   "sideBar": true,
   "skip_h1_title": true,
   "title_cell": "Table of Contents",
   "title_sidebar": "Contents",
   "toc_cell": false,
   "toc_position": {},
   "toc_section_display": true,
   "toc_window_display": false
  },
  "varInspector": {
   "cols": {
    "lenName": 16,
    "lenType": 16,
    "lenVar": 40
   },
   "kernels_config": {
    "python": {
     "delete_cmd_postfix": "",
     "delete_cmd_prefix": "del ",
     "library": "var_list.py",
     "varRefreshCmd": "print(var_dic_list())"
    },
    "r": {
     "delete_cmd_postfix": ") ",
     "delete_cmd_prefix": "rm(",
     "library": "var_list.r",
     "varRefreshCmd": "cat(var_dic_list()) "
    }
   },
   "types_to_exclude": [
    "module",
    "function",
    "builtin_function_or_method",
    "instance",
    "_Feature"
   ],
   "window_display": false
  }
 },
 "nbformat": 4,
 "nbformat_minor": 2
}
