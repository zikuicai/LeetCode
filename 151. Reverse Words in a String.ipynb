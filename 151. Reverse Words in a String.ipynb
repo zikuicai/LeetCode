{
 "cells": [
  {
   "cell_type": "markdown",
   "metadata": {},
   "source": [
    "## 151. Reverse Words in a String\n",
    "\n",
    "```\n",
    "Given an input string, reverse the string word by word. Remove the redundent spaces.\n",
    "\n",
    " \n",
    "Example 1:\n",
    "Input: \"the sky is blue\"\n",
    "Output: \"blue is sky the\"\n",
    "\n",
    "Example 2:\n",
    "Input: \"  hello world!  \"\n",
    "Output: \"world! hello\"\n",
    "Explanation: Your reversed string should not contain leading or trailing spaces.\n",
    "\n",
    "Example 3:\n",
    "Input: \"a good   example\"\n",
    "Output: \"example good a\"\n",
    "Explanation: You need to reduce multiple spaces between two words to a single space in the reversed string.\n",
    "```\n",
    "\n",
    "> Related:\n",
    "- Reverse Words in a String II\n",
    "- 344. Reverse String\n",
    "- 345. Reverse Vowels of a String\n",
    "- 541. Reverse \n",
    "\n"
   ]
  },
  {
   "cell_type": "code",
   "execution_count": 41,
   "metadata": {
    "ExecuteTime": {
     "end_time": "2019-05-01T18:25:13.063390Z",
     "start_time": "2019-05-01T18:25:13.061055Z"
    }
   },
   "outputs": [],
   "source": [
    "s = 'the sky is blue'\n",
    "s = \"a good   example\""
   ]
  },
  {
   "cell_type": "code",
   "execution_count": 48,
   "metadata": {
    "ExecuteTime": {
     "end_time": "2019-05-01T18:41:03.859527Z",
     "start_time": "2019-05-01T18:41:03.852590Z"
    }
   },
   "outputs": [
    {
     "data": {
      "text/plain": [
       "'example good a'"
      ]
     },
     "execution_count": 48,
     "metadata": {},
     "output_type": "execute_result"
    }
   ],
   "source": [
    "# my solution\n",
    "\n",
    "def sol(s):\n",
    "    import re\n",
    "    s = re.sub(r'\\s+',' ',s.strip())  # use regex to remove redundent spaces\n",
    "    s = ' ' + s + ' '\n",
    "    end = len(s)\n",
    "    new_s = ''\n",
    "    for i in range(len(s)-1,-1,-1):\n",
    "        if s[i] == ' ':\n",
    "            new_s += s[i:end]\n",
    "            end = i\n",
    "    return new_s.strip()\n",
    "\n",
    "sol(s)"
   ]
  },
  {
   "cell_type": "markdown",
   "metadata": {},
   "source": [
    "```python\n",
    "\n",
    "Runtime: 44 ms, faster than 39.28% of Python3 online submissions for Reverse Words in a String.\n",
    "Memory Usage: 13.3 MB, less than 100.00% of Python3 online submissions for Reverse Words in a String.\n",
    "\n",
    "```"
   ]
  },
  {
   "cell_type": "code",
   "execution_count": 46,
   "metadata": {
    "ExecuteTime": {
     "end_time": "2019-05-01T18:39:56.267240Z",
     "start_time": "2019-05-01T18:39:56.262528Z"
    }
   },
   "outputs": [
    {
     "data": {
      "text/plain": [
       "'example good a'"
      ]
     },
     "execution_count": 46,
     "metadata": {},
     "output_type": "execute_result"
    }
   ],
   "source": [
    "# fastest solution\n",
    "\n",
    "def sol2(s):\n",
    "    words = list(filter(lambda c: c != '', s.split(' ')))\n",
    "    words_reversed = words[::-1]\n",
    "    return ' '.join(words_reversed)\n",
    "\n",
    "sol2(s)"
   ]
  },
  {
   "cell_type": "code",
   "execution_count": null,
   "metadata": {},
   "outputs": [],
   "source": []
  }
 ],
 "metadata": {
  "kernelspec": {
   "display_name": "Python 3",
   "language": "python",
   "name": "python3"
  },
  "language_info": {
   "codemirror_mode": {
    "name": "ipython",
    "version": 3
   },
   "file_extension": ".py",
   "mimetype": "text/x-python",
   "name": "python",
   "nbconvert_exporter": "python",
   "pygments_lexer": "ipython3",
   "version": "3.7.3"
  }
 },
 "nbformat": 4,
 "nbformat_minor": 2
}
