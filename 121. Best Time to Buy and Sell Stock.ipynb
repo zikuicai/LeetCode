{
 "cells": [
  {
   "cell_type": "markdown",
   "metadata": {},
   "source": [
    "\n",
    "```\n",
    "Say you have an array for which the ith element is the price of a given stock on day i.\n",
    "\n",
    "Design an algorithm to find the maximum profit. You may complete as many transactions as you like (i.e., buy one and sell one share of the stock multiple times).\n",
    "```\n",
    "\n",
    "> [121. Best Time to Buy and Sell Stock](https://leetcode.com/problems/best-time-to-buy-and-sell-stock/)\n",
    "\n",
    "> [122. Best Time to Buy and Sell Stock II](https://leetcode.com/problems/best-time-to-buy-and-sell-stock-ii/)\n",
    "\n",
    "> [123. Best Time to Buy and Sell Stock III](https://leetcode.com/problems/best-time-to-buy-and-sell-stock-iii/)\n",
    "\n",
    "> [188. Best Time to Buy and Sell Stock IV](https://leetcode.com/problems/best-time-to-buy-and-sell-stock-iv/)\n",
    "\n",
    "> [309. Best Time to Buy and Sell Stock with Cooldown](https://leetcode.com/problems/best-time-to-buy-and-sell-stock-with-cooldown/)\n",
    "\n",
    "> [714. Best Time to Buy and Sell Stock with Transaction Fee](https://leetcode.com/problems/best-time-to-buy-and-sell-stock-with-transaction-fee/)\n",
    "\n",
    "google '股票买卖 leetcode'"
   ]
  },
  {
   "cell_type": "markdown",
   "metadata": {},
   "source": [
    "### 121. Best Time to Buy and Sell Stock\n",
    "\n",
    "```\n",
    "Say you have an array for which the ith element is the price of a given stock on day i.\n",
    "\n",
    "If you were only permitted to complete at most one transaction (i.e., buy one and sell one share of the stock), design an algorithm to find the maximum profit.\n",
    "\n",
    "Note that you cannot sell a stock before you buy one.\n",
    "```"
   ]
  },
  {
   "cell_type": "code",
   "execution_count": 17,
   "metadata": {
    "ExecuteTime": {
     "end_time": "2019-04-17T05:02:40.028251Z",
     "start_time": "2019-04-17T05:02:40.024095Z"
    }
   },
   "outputs": [],
   "source": [
    "prices = [7,1,5,3,6,4] # 5\n",
    "\n",
    "# prices = [7,6,4,3,1] # 0\n",
    "\n",
    "prices = [] # 0"
   ]
  },
  {
   "cell_type": "code",
   "execution_count": 18,
   "metadata": {
    "ExecuteTime": {
     "end_time": "2019-04-17T05:02:40.347482Z",
     "start_time": "2019-04-17T05:02:40.340654Z"
    }
   },
   "outputs": [],
   "source": [
    "def maxProfit(prices):\n",
    "    if prices:\n",
    "        minPrice = prices[0]\n",
    "    else: return 0\n",
    "    profit = 0\n",
    "    for i in range(1,len(prices)):\n",
    "        profit = max(profit, prices[i] - minPrice)\n",
    "        minPrice = min(minPrice, prices[i])\n",
    "    return profit"
   ]
  },
  {
   "cell_type": "code",
   "execution_count": 19,
   "metadata": {
    "ExecuteTime": {
     "end_time": "2019-04-17T05:02:40.640402Z",
     "start_time": "2019-04-17T05:02:40.633208Z"
    }
   },
   "outputs": [
    {
     "data": {
      "text/plain": [
       "5"
      ]
     },
     "execution_count": 19,
     "metadata": {},
     "output_type": "execute_result"
    }
   ],
   "source": [
    "maxProfit(prices)"
   ]
  },
  {
   "cell_type": "markdown",
   "metadata": {},
   "source": [
    "## 122. Best Time to Buy and Sell Stock II\n",
    "\n",
    "```\n",
    "Say you have an array for which the ith element is the price of a given stock on day i.\n",
    "\n",
    "Design an algorithm to find the maximum profit. You may complete as many transactions as you like (i.e., buy one and sell one share of the stock multiple times).\n",
    "\n",
    "Note: You may not engage in multiple transactions at the same time (i.e., you must sell the stock before you buy again).\n",
    "```"
   ]
  },
  {
   "cell_type": "code",
   "execution_count": 39,
   "metadata": {
    "ExecuteTime": {
     "end_time": "2019-04-19T21:06:41.625101Z",
     "start_time": "2019-04-19T21:06:41.620036Z"
    }
   },
   "outputs": [],
   "source": [
    "import math\n",
    "prices = [7,1,5,3,6,4]  # 7\n",
    "# prices = [1,2,3,4,5] # 4\n",
    "# prices = [7,6,4,3,1] # 0\n",
    "prices = [1,1,7,6,5,5,6,4,3,1] # 0\n",
    "prices = [5,2,3,2,6,6,2,9,1,0,7,4,5,0] # 20"
   ]
  },
  {
   "cell_type": "code",
   "execution_count": 40,
   "metadata": {
    "ExecuteTime": {
     "end_time": "2019-04-19T21:06:41.940777Z",
     "start_time": "2019-04-19T21:06:41.932899Z"
    }
   },
   "outputs": [
    {
     "name": "stdout",
     "output_type": "stream",
     "text": [
      "buy 2\n",
      "sell 3\n",
      "buy 2\n",
      "sell 6\n",
      "buy 2\n",
      "sell 9\n",
      "buy 0\n",
      "sell 7\n",
      "buy 4\n",
      "sell 5\n",
      "profit 20\n"
     ]
    }
   ],
   "source": [
    "# buy and sell when the price fluctuates\n",
    "# buy at the local minima\n",
    "# sell at the local maxima\n",
    "prices = [math.inf] + prices + [-math.inf]\n",
    "profit = 0\n",
    "count_buy = 0\n",
    "count_sell = 0\n",
    "for i in range(1,len(prices)-1):\n",
    "    # non-decrease <= \n",
    "    if prices[i] <= prices[i-1] and prices[i] < prices[i+1]:\n",
    "        count_buy += 1\n",
    "        buy = prices[i]\n",
    "        print('buy',buy)\n",
    "    # non-increase >= \n",
    "    if prices[i] > prices[i-1] and prices[i] >= prices[i+1]:\n",
    "        count_sell += 1\n",
    "        sell = prices[i]\n",
    "        print('sell',sell)\n",
    "        profit += sell - buy\n",
    "print('profit',profit)"
   ]
  },
  {
   "cell_type": "code",
   "execution_count": 41,
   "metadata": {
    "ExecuteTime": {
     "end_time": "2019-04-19T21:19:56.511782Z",
     "start_time": "2019-04-19T21:19:56.505469Z"
    }
   },
   "outputs": [
    {
     "name": "stdout",
     "output_type": "stream",
     "text": [
      "profit 20\n"
     ]
    }
   ],
   "source": [
    "# solution 2\n",
    "profit = 0\n",
    "for i in range(len(prices)-1):\n",
    "    if prices[i+1] > prices[i]:\n",
    "        profit += prices[i+1] - prices[i]\n",
    "print('profit',profit)    "
   ]
  },
  {
   "cell_type": "markdown",
   "metadata": {
    "ExecuteTime": {
     "end_time": "2019-04-19T18:53:24.301319Z",
     "start_time": "2019-04-19T18:53:24.290733Z"
    }
   },
   "source": [
    "```python\n",
    "Runtime: 44 ms, faster than 67.87% of Python3 online submissions for Best Time to Buy and Sell Stock II.\n",
    "Memory Usage: 14.2 MB, less than 5.06% of Python3 online submissions for Best Time to Buy and Sell Stock II.\n",
    "```"
   ]
  },
  {
   "cell_type": "markdown",
   "metadata": {},
   "source": [
    "## 123. Best Time to Buy and Sell Stock III\n",
    "\n",
    "```\n",
    "Say you have an array for which the ith element is the price of a given stock on day i.\n",
    "\n",
    "Design an algorithm to find the maximum profit. You may complete at most two transactions.\n",
    "\n",
    "Note: You may not engage in multiple transactions at the same time (i.e., you must sell the stock before you buy again).\n",
    "```"
   ]
  },
  {
   "cell_type": "code",
   "execution_count": null,
   "metadata": {},
   "outputs": [],
   "source": [
    "prices = [3,3,5,0,0,3,1,4] # 6\n",
    "prices = [1,2,3,4,5] # 4\n"
   ]
  },
  {
   "cell_type": "code",
   "execution_count": null,
   "metadata": {},
   "outputs": [],
   "source": []
  },
  {
   "cell_type": "code",
   "execution_count": null,
   "metadata": {},
   "outputs": [],
   "source": []
  }
 ],
 "metadata": {
  "hide_input": false,
  "kernelspec": {
   "display_name": "Python 3",
   "language": "python",
   "name": "python3"
  },
  "language_info": {
   "codemirror_mode": {
    "name": "ipython",
    "version": 3
   },
   "file_extension": ".py",
   "mimetype": "text/x-python",
   "name": "python",
   "nbconvert_exporter": "python",
   "pygments_lexer": "ipython3",
   "version": "3.5.6"
  },
  "toc": {
   "base_numbering": 1,
   "nav_menu": {},
   "number_sections": false,
   "sideBar": true,
   "skip_h1_title": false,
   "title_cell": "Table of Contents",
   "title_sidebar": "Contents",
   "toc_cell": false,
   "toc_position": {},
   "toc_section_display": true,
   "toc_window_display": false
  },
  "varInspector": {
   "cols": {
    "lenName": 16,
    "lenType": 16,
    "lenVar": 40
   },
   "kernels_config": {
    "python": {
     "delete_cmd_postfix": "",
     "delete_cmd_prefix": "del ",
     "library": "var_list.py",
     "varRefreshCmd": "print(var_dic_list())"
    },
    "r": {
     "delete_cmd_postfix": ") ",
     "delete_cmd_prefix": "rm(",
     "library": "var_list.r",
     "varRefreshCmd": "cat(var_dic_list()) "
    }
   },
   "types_to_exclude": [
    "module",
    "function",
    "builtin_function_or_method",
    "instance",
    "_Feature"
   ],
   "window_display": false
  }
 },
 "nbformat": 4,
 "nbformat_minor": 2
}
