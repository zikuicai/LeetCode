{
 "cells": [
  {
   "cell_type": "markdown",
   "metadata": {},
   "source": [
    "### About Lines\n",
    "直线方程的各种形式[[知乎]](https://zhuanlan.zhihu.com/p/26263309)\n",
    "\n",
    "![line equations](https://www.onlinemathlearning.com/image-files/xforms-equation-of-line.png.pagespeed.ic.QMJarX2MRy.webp)\n",
    "\n",
    "直线方程[百度百科](https://baike.baidu.com/item/%E7%9B%B4%E7%BA%BF%E6%96%B9%E7%A8%8B)\n",
    "\n",
    "(1) **点线距离** $(x_0,y_0)$ and the line is $ax+by+c=0$\n",
    "\n",
    "$distance=\\frac{|ax_0+by_0+c|}{\\sqrt{a^2+b^2}}$\n",
    "\n",
    "(2) **线线距离** $Ax+By+C_1=O,Ax+By+C_2=0$\n",
    "\n",
    "$d= \\frac{丨C_1-C_2丨}{\\sqrt{A^2+B^2}}$\n",
    "\n",
    "(3) **对称点** 点$(x_0,y_0)$关于直线$Ax+By+C=0$\n",
    "\n",
    "$ ( x_0-\\frac{2A(Ax_0+By_0+C)}{A^2+B^2} ，y_0-\\frac{2B(Ax_0+By_0+C)}{A^2+B^2} )$\n",
    "\n",
    "(4) **对称的直线** 直线$y=kx+b$关于点$(x_0,y_0)$\n",
    "\n",
    "$y-2y_0=k(x-2x_0)-b$\n"
   ]
  },
  {
   "cell_type": "markdown",
   "metadata": {},
   "source": [
    "# 908. Line Reflection\n",
    "\n",
    "\n",
    "```\n",
    "Given n points on a 2D plane, find if there is such a line parallel to y-axis that reflect the given points.\n",
    "\n",
    "\n",
    "Example1:\n",
    "\n",
    "Input: [[1,1],[-1,1]]\n",
    "Output: true\n",
    "\n",
    "Example2:\n",
    "\n",
    "Input: [[1,1],[-1,-1]]\n",
    "Output: false\n",
    "\n",
    "Challenge:\n",
    "Could you do better than O(n2)?\n",
    "\n",
    "```"
   ]
  },
  {
   "cell_type": "code",
   "execution_count": null,
   "metadata": {},
   "outputs": [],
   "source": []
  },
  {
   "cell_type": "code",
   "execution_count": null,
   "metadata": {},
   "outputs": [],
   "source": []
  },
  {
   "cell_type": "code",
   "execution_count": null,
   "metadata": {},
   "outputs": [],
   "source": []
  },
  {
   "cell_type": "markdown",
   "metadata": {},
   "source": [
    "# 186. Max Points on a Line\n",
    "\n",
    "```\n",
    "Given n points on a 2D plane, find the maximum number of points that lie on the same straight line.\n",
    "\n",
    "Examples:\n",
    "\n",
    "Input:(1,2),(3,6),(0,0),(1,3).\n",
    "Output:3\n",
    "\n",
    "(1,2),(2,3),(3,2).\n",
    "2\n",
    "\n",
    "[[0,0],[1,1],[0,0]]\n",
    "3\n",
    "\n",
    "[[1,1],[1,1],[1,1]]\n",
    "3\n",
    "\n",
    "[[0,0]]\n",
    "1\n",
    "\n",
    "[]\n",
    "0\n",
    "```"
   ]
  },
  {
   "cell_type": "code",
   "execution_count": 17,
   "metadata": {
    "ExecuteTime": {
     "end_time": "2019-03-21T04:39:23.604621Z",
     "start_time": "2019-03-21T04:39:23.598210Z"
    }
   },
   "outputs": [],
   "source": [
    "points = [[1,1],[3,2],[5,3],[4,1],[2,3],[1,4]]"
   ]
  },
  {
   "cell_type": "code",
   "execution_count": 36,
   "metadata": {
    "ExecuteTime": {
     "end_time": "2019-03-21T04:54:04.040955Z",
     "start_time": "2019-03-21T04:54:04.009723Z"
    }
   },
   "outputs": [
    {
     "name": "stdout",
     "output_type": "stream",
     "text": [
      "1 1\n",
      "3 2\n",
      "(0.5, 0.5)\n",
      "\n",
      "1 1\n",
      "5 3\n",
      "(0.5, 0.5)\n",
      "\n",
      "1 1\n",
      "4 1\n",
      "(-0.0, 1.0)\n",
      "\n",
      "1 1\n",
      "2 3\n",
      "(2.0, -1.0)\n",
      "\n",
      "3 2\n",
      "5 3\n",
      "(0.5, 0.5)\n",
      "\n",
      "3 2\n",
      "4 1\n",
      "(-1.0, 5.0)\n",
      "\n",
      "3 2\n",
      "2 3\n",
      "(-1.0, 5.0)\n",
      "\n",
      "3 2\n",
      "1 4\n",
      "(-1.0, 5.0)\n",
      "\n",
      "5 3\n",
      "4 1\n",
      "(2.0, -7.0)\n",
      "\n",
      "5 3\n",
      "2 3\n",
      "(0.0, 3.0)\n",
      "\n",
      "5 3\n",
      "1 4\n",
      "(-0.25, 4.25)\n",
      "\n",
      "4 1\n",
      "2 3\n",
      "(-1.0, 5.0)\n",
      "\n",
      "4 1\n",
      "1 4\n",
      "(-1.0, 5.0)\n",
      "\n",
      "2 3\n",
      "1 4\n",
      "(-1.0, 5.0)\n",
      "\n"
     ]
    },
    {
     "data": {
      "text/plain": [
       "4"
      ]
     },
     "execution_count": 36,
     "metadata": {},
     "output_type": "execute_result"
    }
   ],
   "source": [
    "# brute force and find the line equation of every pair of points\n",
    "from math import sqrt\n",
    "# def maxPoints(points) -> int:\n",
    "N = len(points)\n",
    "kb = {}\n",
    "for i in range(N-1):\n",
    "    for j in range(i+1,N):\n",
    "        xi,yi = points[i][0],points[i][1]\n",
    "        xj,yj = points[j][0],points[j][1]\n",
    "        if xi == xj:\n",
    "            if ('inf',xi) in kb.keys():\n",
    "                kb[('inf',xi)] += 1\n",
    "            else:\n",
    "                kb[('inf',xi)] = 1\n",
    "        else:\n",
    "            k = (yi-yj)/(xi-xj)\n",
    "            b = yi - k*xi\n",
    "            print(xi,yi)\n",
    "            print(xj,yj)\n",
    "            print((k,b))\n",
    "            print('')\n",
    "            if (k,b) in kb.keys():\n",
    "                \n",
    "                kb[(k,b)] += 1\n",
    "            else:\n",
    "                kb[(k,b)] = 1\n",
    "\n",
    "num_pairs = max(kb.values())\n",
    "int((1+sqrt(1+8*num_pairs))/2)\n",
    "# if kb.values():\n",
    "#     return max(kb.values())\n",
    "# return 0\n",
    "\n",
    "# maxPoints(points)"
   ]
  },
  {
   "cell_type": "code",
   "execution_count": 30,
   "metadata": {
    "ExecuteTime": {
     "end_time": "2019-03-21T04:42:24.550985Z",
     "start_time": "2019-03-21T04:42:24.542554Z"
    }
   },
   "outputs": [
    {
     "data": {
      "text/plain": [
       "{(0.5, 0.5): 3,\n",
       " (-0.0, 1.0): 1,\n",
       " (2.0, -1.0): 1,\n",
       " ('inf', 1): 1,\n",
       " (-1.0, 5.0): 6,\n",
       " (2.0, -7.0): 1,\n",
       " (0.0, 3.0): 1,\n",
       " (-0.25, 4.25): 1}"
      ]
     },
     "execution_count": 30,
     "metadata": {},
     "output_type": "execute_result"
    }
   ],
   "source": [
    "kb"
   ]
  },
  {
   "cell_type": "code",
   "execution_count": 28,
   "metadata": {
    "ExecuteTime": {
     "end_time": "2019-03-21T04:42:09.271272Z",
     "start_time": "2019-03-21T04:42:09.266008Z"
    }
   },
   "outputs": [
    {
     "data": {
      "text/plain": [
       "{(0.5, 0.5): 6,\n",
       " (-0.0, 1.0): 2,\n",
       " (2.0, -1.0): 2,\n",
       " ('inf', 1): 2,\n",
       " (-1.0, 5.0): 12,\n",
       " (2.0, -7.0): 2,\n",
       " (0.0, 3.0): 2,\n",
       " (-0.25, 4.25): 2}"
      ]
     },
     "execution_count": 28,
     "metadata": {},
     "output_type": "execute_result"
    }
   ],
   "source": [
    "kb"
   ]
  },
  {
   "cell_type": "code",
   "execution_count": 46,
   "metadata": {
    "ExecuteTime": {
     "end_time": "2019-03-21T05:27:13.671108Z",
     "start_time": "2019-03-21T05:27:13.666932Z"
    }
   },
   "outputs": [],
   "source": [
    "a = {'a':1}"
   ]
  },
  {
   "cell_type": "code",
   "execution_count": 16,
   "metadata": {
    "ExecuteTime": {
     "end_time": "2019-03-21T04:27:43.917876Z",
     "start_time": "2019-03-21T04:27:43.903423Z"
    }
   },
   "outputs": [
    {
     "data": {
      "text/plain": [
       "2"
      ]
     },
     "execution_count": 16,
     "metadata": {},
     "output_type": "execute_result"
    }
   ],
   "source": [
    "max(a.values())"
   ]
  },
  {
   "cell_type": "code",
   "execution_count": 37,
   "metadata": {
    "ExecuteTime": {
     "end_time": "2019-03-21T05:05:05.277483Z",
     "start_time": "2019-03-21T05:05:05.272280Z"
    }
   },
   "outputs": [],
   "source": [
    "for i in range(10,10):\n",
    "    print(i)"
   ]
  },
  {
   "cell_type": "code",
   "execution_count": 43,
   "metadata": {
    "ExecuteTime": {
     "end_time": "2019-03-21T05:22:08.339047Z",
     "start_time": "2019-03-21T05:22:08.331393Z"
    }
   },
   "outputs": [
    {
     "data": {
      "text/plain": [
       "'a'"
      ]
     },
     "execution_count": 43,
     "metadata": {},
     "output_type": "execute_result"
    }
   ],
   "source": [
    "list(a.keys())[0]"
   ]
  },
  {
   "cell_type": "code",
   "execution_count": 50,
   "metadata": {
    "ExecuteTime": {
     "end_time": "2019-03-21T05:27:31.032418Z",
     "start_time": "2019-03-21T05:27:31.026771Z"
    }
   },
   "outputs": [
    {
     "data": {
      "text/plain": [
       "1"
      ]
     },
     "execution_count": 50,
     "metadata": {},
     "output_type": "execute_result"
    }
   ],
   "source": [
    "list(a.values())[0]"
   ]
  },
  {
   "cell_type": "code",
   "execution_count": null,
   "metadata": {},
   "outputs": [],
   "source": []
  }
 ],
 "metadata": {
  "hide_input": false,
  "kernelspec": {
   "display_name": "Python 3",
   "language": "python",
   "name": "python3"
  },
  "language_info": {
   "codemirror_mode": {
    "name": "ipython",
    "version": 3
   },
   "file_extension": ".py",
   "mimetype": "text/x-python",
   "name": "python",
   "nbconvert_exporter": "python",
   "pygments_lexer": "ipython3",
   "version": "3.7.2"
  },
  "toc": {
   "base_numbering": 1,
   "nav_menu": {},
   "number_sections": false,
   "sideBar": true,
   "skip_h1_title": false,
   "title_cell": "Table of Contents",
   "title_sidebar": "Contents",
   "toc_cell": false,
   "toc_position": {},
   "toc_section_display": true,
   "toc_window_display": true
  },
  "varInspector": {
   "cols": {
    "lenName": 16,
    "lenType": 16,
    "lenVar": 40
   },
   "kernels_config": {
    "python": {
     "delete_cmd_postfix": "",
     "delete_cmd_prefix": "del ",
     "library": "var_list.py",
     "varRefreshCmd": "print(var_dic_list())"
    },
    "r": {
     "delete_cmd_postfix": ") ",
     "delete_cmd_prefix": "rm(",
     "library": "var_list.r",
     "varRefreshCmd": "cat(var_dic_list()) "
    }
   },
   "types_to_exclude": [
    "module",
    "function",
    "builtin_function_or_method",
    "instance",
    "_Feature"
   ],
   "window_display": false
  }
 },
 "nbformat": 4,
 "nbformat_minor": 2
}
