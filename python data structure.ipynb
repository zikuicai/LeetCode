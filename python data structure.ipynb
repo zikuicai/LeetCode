{
 "cells": [
  {
   "cell_type": "code",
   "execution_count": 31,
   "metadata": {
    "ExecuteTime": {
     "end_time": "2019-03-29T17:06:08.133462Z",
     "start_time": "2019-03-29T17:06:08.122910Z"
    }
   },
   "outputs": [
    {
     "name": "stdout",
     "output_type": "stream",
     "text": [
      "[1, 2, 3, 5]\n",
      "[6, 7, 8, 9]\n"
     ]
    }
   ],
   "source": [
    "# list -> stack, queue\n",
    "\n",
    "# list -> stack\n",
    "stack = [1,2,3,4]\n",
    "stack.pop()\n",
    "stack.append(5)\n",
    "print(stack)\n",
    "\n",
    "# list -> queue\n",
    "# inefficient to pop from the beginning\n",
    "queue = [5,6,7,8]\n",
    "queue.append(9)\n",
    "queue.pop(0)\n",
    "print(queue)"
   ]
  },
  {
   "cell_type": "code",
   "execution_count": 14,
   "metadata": {
    "ExecuteTime": {
     "end_time": "2019-03-29T04:38:33.003701Z",
     "start_time": "2019-03-29T04:38:32.992572Z"
    }
   },
   "outputs": [
    {
     "name": "stdout",
     "output_type": "stream",
     "text": [
      "[1, 2, 3, 5]\n",
      "[6, 7, 8, 9]\n"
     ]
    }
   ],
   "source": [
    "from collections import deque\n",
    "\n",
    "# deque -> stack\n",
    "stack = deque([1,2,3,4])\n",
    "stack.pop()\n",
    "stack.append(5)\n",
    "print(list(stack))\n",
    "\n",
    "# deque -> queue\n",
    "queue = deque([5,6,7,8])\n",
    "queue.append(9)\n",
    "queue.popleft()\n",
    "\n",
    "print(list(queue))"
   ]
  },
  {
   "cell_type": "code",
   "execution_count": 16,
   "metadata": {
    "ExecuteTime": {
     "end_time": "2019-03-29T04:42:50.243259Z",
     "start_time": "2019-03-29T04:42:50.232475Z"
    }
   },
   "outputs": [
    {
     "name": "stdout",
     "output_type": "stream",
     "text": [
      "[0, 1, 2, 6, 3, 5, 4, 7, 8, 9]\n"
     ]
    },
    {
     "data": {
      "text/plain": [
       "0"
      ]
     },
     "execution_count": 16,
     "metadata": {},
     "output_type": "execute_result"
    }
   ],
   "source": [
    "# from heapq import *\n",
    "\n",
    "# heap\n",
    "from heapq import heappush, heappop\n",
    "heap = []\n",
    "data = [1, 3, 5, 7, 9, 2, 4, 6, 8, 0]\n",
    "for item in data:\n",
    "    heappush(heap, item)\n",
    "\n",
    "print(heap)\n",
    "heappop(heap)"
   ]
  },
  {
   "cell_type": "code",
   "execution_count": 27,
   "metadata": {
    "ExecuteTime": {
     "end_time": "2019-03-29T05:57:51.636358Z",
     "start_time": "2019-03-29T05:57:51.626730Z"
    }
   },
   "outputs": [],
   "source": [
    "def approach3(givenNumber):  \n",
    "    \n",
    "    # Initialize a list\n",
    "    primes = []\n",
    "    for possiblePrime in range(2, givenNumber + 1):\n",
    "        # Assume number is prime until shown it is not. \n",
    "        isPrime = True\n",
    "        for num in range(2, int(possiblePrime ** 0.5) + 1):\n",
    "            if possiblePrime % num == 0:\n",
    "                isPrime = False\n",
    "                break\n",
    "        if isPrime:\n",
    "            primes.append(possiblePrime)\n",
    "    \n",
    "    return(primes)"
   ]
  },
  {
   "cell_type": "code",
   "execution_count": 43,
   "metadata": {
    "ExecuteTime": {
     "end_time": "2019-03-29T17:10:40.604835Z",
     "start_time": "2019-03-29T17:10:40.596100Z"
    }
   },
   "outputs": [
    {
     "name": "stdout",
     "output_type": "stream",
     "text": [
      "[5, 3, 2, 1]\n",
      "[1, 2, 3, 5]\n"
     ]
    }
   ],
   "source": [
    "stack1 = stack[::-1]\n",
    "print(stack1)\n",
    "stack1.reverse()\n",
    "print(stack1)"
   ]
  },
  {
   "cell_type": "code",
   "execution_count": null,
   "metadata": {},
   "outputs": [],
   "source": []
  }
 ],
 "metadata": {
  "hide_input": false,
  "kernelspec": {
   "display_name": "Python 3",
   "language": "python",
   "name": "python3"
  },
  "language_info": {
   "codemirror_mode": {
    "name": "ipython",
    "version": 3
   },
   "file_extension": ".py",
   "mimetype": "text/x-python",
   "name": "python",
   "nbconvert_exporter": "python",
   "pygments_lexer": "ipython3",
   "version": "3.7.2"
  },
  "toc": {
   "base_numbering": 1,
   "nav_menu": {},
   "number_sections": true,
   "sideBar": true,
   "skip_h1_title": false,
   "title_cell": "Table of Contents",
   "title_sidebar": "Contents",
   "toc_cell": false,
   "toc_position": {},
   "toc_section_display": true,
   "toc_window_display": false
  },
  "varInspector": {
   "cols": {
    "lenName": 16,
    "lenType": 16,
    "lenVar": 40
   },
   "kernels_config": {
    "python": {
     "delete_cmd_postfix": "",
     "delete_cmd_prefix": "del ",
     "library": "var_list.py",
     "varRefreshCmd": "print(var_dic_list())"
    },
    "r": {
     "delete_cmd_postfix": ") ",
     "delete_cmd_prefix": "rm(",
     "library": "var_list.r",
     "varRefreshCmd": "cat(var_dic_list()) "
    }
   },
   "types_to_exclude": [
    "module",
    "function",
    "builtin_function_or_method",
    "instance",
    "_Feature"
   ],
   "window_display": false
  }
 },
 "nbformat": 4,
 "nbformat_minor": 2
}
