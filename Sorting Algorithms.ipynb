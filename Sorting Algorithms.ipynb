{
 "cells": [
  {
   "cell_type": "markdown",
   "metadata": {},
   "source": [
    "# n*log(n) sorting algorithm\n",
    "- ## Quick Sort\n",
    "- ## Merge Sort\n",
    "- ## Heap Sort\n",
    "\n",
    "---\n"
   ]
  },
  {
   "cell_type": "markdown",
   "metadata": {},
   "source": [
    "## insertion sort"
   ]
  },
  {
   "cell_type": "code",
   "execution_count": 47,
   "metadata": {},
   "outputs": [
    {
     "name": "stdout",
     "output_type": "stream",
     "text": [
      "[0, 2, 3, 4, 6, 7, 11, 15, 19, 80]\n"
     ]
    }
   ],
   "source": [
    "A = [11, 3, 15, 7, 19, 2, 4, 6, 80, 0]\n",
    "\n",
    "for i in range(len(A)):\n",
    "    current = A[i]\n",
    "    preidx = i-1    # previous index\n",
    "    while preidx >= 0 and current < A[preidx]:\n",
    "        A[preidx+1] = A[preidx]\n",
    "        preidx -= 1\n",
    "    A[preidx+1] = current\n",
    "\n",
    "print(A)"
   ]
  },
  {
   "cell_type": "markdown",
   "metadata": {},
   "source": [
    "## selection sort"
   ]
  },
  {
   "cell_type": "code",
   "execution_count": 49,
   "metadata": {},
   "outputs": [
    {
     "name": "stdout",
     "output_type": "stream",
     "text": [
      "[0, 2, 3, 4, 6, 7, 10, 11, 15, 19, 80]\n"
     ]
    }
   ],
   "source": [
    "A = [11, 3, 15, 7, 19, 2, 4, 6, 80, 0]\n",
    "\n",
    "for i in range(len(A)-1):\n",
    "    for j in range(i+1,len(A)):\n",
    "        if A[i] > A[j]:\n",
    "            A[i], A[j] = A[j], A[i]\n",
    "\n",
    "print(A)"
   ]
  },
  {
   "cell_type": "markdown",
   "metadata": {},
   "source": [
    "## bubble sort"
   ]
  },
  {
   "cell_type": "code",
   "execution_count": 52,
   "metadata": {},
   "outputs": [
    {
     "name": "stdout",
     "output_type": "stream",
     "text": [
      "[0, 2, 3, 4, 6, 7, 11, 15, 19, 80]\n"
     ]
    }
   ],
   "source": [
    "A = [11, 3, 15, 7, 19, 2, 4, 6, 80, 0]\n",
    "\n",
    "for i in range(1,len(A)):\n",
    "    for j in range(len(A)-i):\n",
    "        if A[j] > A[j+1]:\n",
    "            A[j], A[j+1] = A[j+1], A[j]\n",
    "\n",
    "print(A)"
   ]
  },
  {
   "cell_type": "markdown",
   "metadata": {},
   "source": [
    "## radix sort"
   ]
  },
  {
   "cell_type": "code",
   "execution_count": 37,
   "metadata": {},
   "outputs": [
    {
     "name": "stdout",
     "output_type": "stream",
     "text": [
      "[0, 2, 3, 4, 6, 7, 11, 15, 19, 80]\n"
     ]
    }
   ],
   "source": [
    "import itertools\n",
    "\n",
    "A = [11, 3, 15, 7, 19, 2, 4, 6, 80, 0]\n",
    "\n",
    "\n",
    "# for decimal numbers\n",
    "max_num = max(A)\n",
    "n = len(str(max_num))\n",
    "\n",
    "for i in range(n):\n",
    "    bucket = [[] for j in range(10)]\n",
    "    for x in A:\n",
    "        radix = int((x/(10**i))%10)\n",
    "        bucket[radix].append(x)\n",
    "    \n",
    "    A = list(itertools.chain.from_iterable(bucket))\n",
    "    \n",
    "print(A)"
   ]
  },
  {
   "cell_type": "markdown",
   "metadata": {},
   "source": [
    "```python\n",
    "# flatten a list of lists\n",
    "# https://stackoverflow.com/questions/952914/how-to-make-a-flat-list-out-of-list-of-lists\n",
    "\n",
    "# regular way\n",
    "idx = 0\n",
    "for y in bucket:\n",
    "    if y:\n",
    "        for z in y:\n",
    "            A[idx] = z\n",
    "            idx += 1\n",
    "\n",
    "# pythonic way 1\n",
    "A = sum(bucket,[])\n",
    "\n",
    "# pythonic way 2\n",
    "import itertools\n",
    "A = list(itertools.chain.from_iterable(bucket))\n",
    "```"
   ]
  },
  {
   "cell_type": "markdown",
   "metadata": {},
   "source": [
    "## merge sort"
   ]
  },
  {
   "cell_type": "code",
   "execution_count": 58,
   "metadata": {},
   "outputs": [
    {
     "data": {
      "text/plain": [
       "[0, 2, 3, 4, 6, 7, 11, 15, 19, 80]"
      ]
     },
     "execution_count": 58,
     "metadata": {},
     "output_type": "execute_result"
    }
   ],
   "source": [
    "def merge(left,right):\n",
    "    result = []\n",
    "    while left and right:\n",
    "        result.append(left.pop(0)) if left[0]<right[0] else result.append(right.pop(0))\n",
    "    if left:\n",
    "        result += left\n",
    "    elif right:\n",
    "        result += right\n",
    "    return result\n",
    "\n",
    "def mergeSort(A):\n",
    "    if len(A)<2:\n",
    "        return A\n",
    "    middle = int(len(A)/2)\n",
    "    left, right = A[:middle], A[middle:]\n",
    "    return merge(mergeSort(left),mergeSort(right))\n",
    "\n",
    "\n",
    "A = [11, 3, 15, 7, 19, 2, 4, 6, 80, 0]\n",
    "mergeSort(A)"
   ]
  },
  {
   "cell_type": "markdown",
   "metadata": {},
   "source": [
    "## quick sort"
   ]
  },
  {
   "cell_type": "code",
   "execution_count": 80,
   "metadata": {},
   "outputs": [
    {
     "data": {
      "text/plain": [
       "[0, 2, 3, 4, 6, 7, 11, 15, 19, 80]"
      ]
     },
     "execution_count": 80,
     "metadata": {},
     "output_type": "execute_result"
    }
   ],
   "source": [
    "def partition(A,low,high):\n",
    "    pivot = A[low]\n",
    "    i, j  = low, high\n",
    "    while i < j:\n",
    "        while A[i] <= pivot:\n",
    "            i += 1\n",
    "        while A[j] > pivot:\n",
    "            j -= 1\n",
    "        if i < j:\n",
    "            A[i], A[j] = A[j], A[i]\n",
    "    A[low], A[j] = A[j], A[low]\n",
    "    return j\n",
    "\n",
    "def quickSort(A,low,high):\n",
    "    if low < high:\n",
    "        j = partition(A,low,high)\n",
    "        quickSort(A,low,j)\n",
    "        quickSort(A,j+1,high)\n",
    "    return A\n",
    "\n",
    "A = [11, 3, 15, 7, 19, 2, 4, 6, 80, 0]\n",
    "quickSort(A,0,len(A)-1)"
   ]
  },
  {
   "cell_type": "markdown",
   "metadata": {},
   "source": [
    "## heap sort"
   ]
  },
  {
   "cell_type": "code",
   "execution_count": 107,
   "metadata": {},
   "outputs": [
    {
     "data": {
      "text/plain": [
       "[0, 2, 3, 4, 6, 7, 11, 15, 19, 80]"
      ]
     },
     "execution_count": 107,
     "metadata": {},
     "output_type": "execute_result"
    }
   ],
   "source": [
    "A = [11, 3, 15, 7, 19, 2, 4, 6, 80, 0]\n",
    "\n",
    "def heapify(A,size,root):\n",
    "    largest = root\n",
    "    left =  2*root + 1\n",
    "    right = 2*root + 2\n",
    "    if left < size and A[left] > A[largest]:\n",
    "        largest = left\n",
    "    if right < size and A[right] > A[largest]:\n",
    "        largest = right\n",
    "    if largest != root:\n",
    "        A[largest], A[root] = A[root], A[largest]\n",
    "        heapify(A,size,largest)\n",
    "\n",
    "def createMaxHeap(A):\n",
    "    for i in range(len(A),-1,-1):\n",
    "        heapify(A,len(A),i)\n",
    "    \n",
    "def heapSort(A):\n",
    "    createMaxHeap(A)\n",
    "    for i in range(len(A)-1,0,-1):\n",
    "        A[i], A[0] = A[0], A[i]\n",
    "        heapify(A,i,0)\n",
    "    return A\n",
    "    \n",
    "\n",
    "heapSort(A)"
   ]
  },
  {
   "cell_type": "code",
   "execution_count": null,
   "metadata": {},
   "outputs": [],
   "source": []
  }
 ],
 "metadata": {
  "kernelspec": {
   "display_name": "Python 3",
   "language": "python",
   "name": "python3"
  },
  "language_info": {
   "codemirror_mode": {
    "name": "ipython",
    "version": 3
   },
   "file_extension": ".py",
   "mimetype": "text/x-python",
   "name": "python",
   "nbconvert_exporter": "python",
   "pygments_lexer": "ipython3",
   "version": "3.7.4"
  }
 },
 "nbformat": 4,
 "nbformat_minor": 2
}
