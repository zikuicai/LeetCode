{
 "cells": [
  {
   "cell_type": "markdown",
   "metadata": {},
   "source": [
    "### Hashtables and maps\n",
    "\n",
    "- Python\n",
    " - Dictionary\n",
    " - Set \n",
    " - from collections import Counter\n",
    "- How to implement using only arrays?\n",
    "- Big-O analysis"
   ]
  },
  {
   "cell_type": "code",
   "execution_count": 17,
   "metadata": {},
   "outputs": [],
   "source": [
    "# components of a hashmap\n",
    "# array - where to store the data\n",
    "# hash function - convert key to index\n",
    "# collision handling\n",
    "\n",
    "\n",
    "# design a good hash function\n",
    "# eg\n",
    "#1: length of a string\n",
    "#   value = len(key)-1\n",
    "\n",
    "#2: sum(ASCII of each letter)\n",
    "#   for char in key: value += ord(char)\n",
    "#   value %= 5\n",
    "\n",
    "\n",
    "class hashmap:\n",
    "    def __init__(self):\n",
    "        self.size = 10\n",
    "        self.array = [None] * self.size\n",
    "    \n",
    "    def get_hash(self,key):\n",
    "        hash_value = 0\n",
    "        for char in key:\n",
    "            hash_value += ord(char)\n",
    "        idx = hash_value % self.size\n",
    "        return idx\n",
    "    \n",
    "    def add(self,key,value):\n",
    "        idx = self.get_hash(key)\n",
    "        if self.array[idx] is not None:\n",
    "            for item in self.array[idx]:\n",
    "                if item[0] == key:\n",
    "                    item[1] == value\n",
    "                    return True\n",
    "            self.array[idx].append([key,value])\n",
    "            return True\n",
    "        self.array[idx] = [key,value]\n",
    "        return True\n",
    "    \n",
    "    def delete(self,key):\n",
    "        idx = self.get_hash(key)\n",
    "        if self.array[idx] is None:\n",
    "            return False\n",
    "        for item in self.array[idx]:\n",
    "            if item[0] == key:\n",
    "                self.array[idx].remove(value)\n",
    "                return True\n",
    "        return False\n",
    "    \n",
    "    def lookup(self,key):\n",
    "        idx = self.get_hash(key)\n",
    "        if self.array[idx] is None:\n",
    "            return False\n",
    "        else: return self.array[idx]\n",
    "        \n",
    "                \n",
    "        "
   ]
  },
  {
   "cell_type": "code",
   "execution_count": 18,
   "metadata": {},
   "outputs": [],
   "source": [
    "a = hashmap()"
   ]
  },
  {
   "cell_type": "code",
   "execution_count": 19,
   "metadata": {},
   "outputs": [
    {
     "data": {
      "text/plain": [
       "True"
      ]
     },
     "execution_count": 19,
     "metadata": {},
     "output_type": "execute_result"
    }
   ],
   "source": [
    "# bob 1\n",
    "# tom 2\n",
    "# candy 3\n",
    "# allen 4\n",
    "\n",
    "a.add('bob',1)\n",
    "a.add('tom', 2)\n",
    "# a.add('candy', 3)\n",
    "a.add('allen', 4)\n",
    "# candy 3\n",
    "# allen 4"
   ]
  },
  {
   "cell_type": "code",
   "execution_count": 20,
   "metadata": {},
   "outputs": [
    {
     "data": {
      "text/plain": [
       "[None,\n",
       " None,\n",
       " None,\n",
       " None,\n",
       " ['allen', 4],\n",
       " None,\n",
       " ['tom', 2],\n",
       " ['bob', 1],\n",
       " None,\n",
       " None]"
      ]
     },
     "execution_count": 20,
     "metadata": {},
     "output_type": "execute_result"
    }
   ],
   "source": [
    "a.array"
   ]
  },
  {
   "cell_type": "code",
   "execution_count": 21,
   "metadata": {},
   "outputs": [
    {
     "ename": "TypeError",
     "evalue": "'int' object is not subscriptable",
     "output_type": "error",
     "traceback": [
      "\u001b[0;31m---------------------------------------------------------------------------\u001b[0m",
      "\u001b[0;31mTypeError\u001b[0m                                 Traceback (most recent call last)",
      "\u001b[0;32m<ipython-input-21-5df4a6938ed9>\u001b[0m in \u001b[0;36m<module>\u001b[0;34m\u001b[0m\n\u001b[0;32m----> 1\u001b[0;31m \u001b[0ma\u001b[0m\u001b[0;34m.\u001b[0m\u001b[0mdelete\u001b[0m\u001b[0;34m(\u001b[0m\u001b[0;34m'bob'\u001b[0m\u001b[0;34m)\u001b[0m\u001b[0;34m\u001b[0m\u001b[0;34m\u001b[0m\u001b[0m\n\u001b[0m",
      "\u001b[0;32m<ipython-input-17-5e2ffa863b04>\u001b[0m in \u001b[0;36mdelete\u001b[0;34m(self, key)\u001b[0m\n\u001b[1;32m     44\u001b[0m             \u001b[0;32mreturn\u001b[0m \u001b[0;32mFalse\u001b[0m\u001b[0;34m\u001b[0m\u001b[0;34m\u001b[0m\u001b[0m\n\u001b[1;32m     45\u001b[0m         \u001b[0;32mfor\u001b[0m \u001b[0mitem\u001b[0m \u001b[0;32min\u001b[0m \u001b[0mself\u001b[0m\u001b[0;34m.\u001b[0m\u001b[0marray\u001b[0m\u001b[0;34m[\u001b[0m\u001b[0midx\u001b[0m\u001b[0;34m]\u001b[0m\u001b[0;34m:\u001b[0m\u001b[0;34m\u001b[0m\u001b[0;34m\u001b[0m\u001b[0m\n\u001b[0;32m---> 46\u001b[0;31m             \u001b[0;32mif\u001b[0m \u001b[0mitem\u001b[0m\u001b[0;34m[\u001b[0m\u001b[0;36m0\u001b[0m\u001b[0;34m]\u001b[0m \u001b[0;34m==\u001b[0m \u001b[0mkey\u001b[0m\u001b[0;34m:\u001b[0m\u001b[0;34m\u001b[0m\u001b[0;34m\u001b[0m\u001b[0m\n\u001b[0m\u001b[1;32m     47\u001b[0m                 \u001b[0mself\u001b[0m\u001b[0;34m.\u001b[0m\u001b[0marray\u001b[0m\u001b[0;34m[\u001b[0m\u001b[0midx\u001b[0m\u001b[0;34m]\u001b[0m\u001b[0;34m.\u001b[0m\u001b[0mremove\u001b[0m\u001b[0;34m(\u001b[0m\u001b[0mvalue\u001b[0m\u001b[0;34m)\u001b[0m\u001b[0;34m\u001b[0m\u001b[0;34m\u001b[0m\u001b[0m\n\u001b[1;32m     48\u001b[0m                 \u001b[0;32mreturn\u001b[0m \u001b[0;32mTrue\u001b[0m\u001b[0;34m\u001b[0m\u001b[0;34m\u001b[0m\u001b[0m\n",
      "\u001b[0;31mTypeError\u001b[0m: 'int' object is not subscriptable"
     ]
    }
   ],
   "source": [
    "a.delete('bob')"
   ]
  },
  {
   "cell_type": "code",
   "execution_count": 14,
   "metadata": {},
   "outputs": [
    {
     "data": {
      "text/plain": [
       "7"
      ]
     },
     "execution_count": 14,
     "metadata": {},
     "output_type": "execute_result"
    }
   ],
   "source": [
    "# idx = self.get_hash()\n",
    "\n",
    "key = 'bob'\n",
    "hash_value = 0\n",
    "for char in key:\n",
    "    hash_value += ord(char)\n",
    "idx = hash_value % 10\n",
    "\n",
    "idx"
   ]
  },
  {
   "cell_type": "code",
   "execution_count": 16,
   "metadata": {},
   "outputs": [
    {
     "data": {
      "text/plain": [
       "['bob', 1]"
      ]
     },
     "execution_count": 16,
     "metadata": {},
     "output_type": "execute_result"
    }
   ],
   "source": [
    "a.array[7]"
   ]
  },
  {
   "cell_type": "code",
   "execution_count": null,
   "metadata": {},
   "outputs": [],
   "source": [
    "if self.array[idx] is not None:\n",
    "    for item in self.array[idx]:\n",
    "        if item[0] == key:\n",
    "            item[1] == value\n",
    "            return True\n",
    "    self.array[idx].append([key,value])\n",
    "    return True\n",
    "self.array[idx] = [key,value]\n",
    "return True"
   ]
  },
  {
   "cell_type": "code",
   "execution_count": 31,
   "metadata": {
    "ExecuteTime": {
     "end_time": "2019-03-29T17:06:08.133462Z",
     "start_time": "2019-03-29T17:06:08.122910Z"
    }
   },
   "outputs": [
    {
     "name": "stdout",
     "output_type": "stream",
     "text": [
      "[1, 2, 3, 5]\n",
      "[6, 7, 8, 9]\n"
     ]
    }
   ],
   "source": [
    "# list -> stack, queue\n",
    "\n",
    "# list -> stack\n",
    "stack = [1,2,3,4]\n",
    "stack.pop()\n",
    "stack.append(5)\n",
    "print(stack)\n",
    "\n",
    "# list -> queue\n",
    "# inefficient to pop from the beginning\n",
    "queue = [5,6,7,8]\n",
    "queue.append(9)\n",
    "queue.pop(0)\n",
    "print(queue)"
   ]
  },
  {
   "cell_type": "code",
   "execution_count": 14,
   "metadata": {
    "ExecuteTime": {
     "end_time": "2019-03-29T04:38:33.003701Z",
     "start_time": "2019-03-29T04:38:32.992572Z"
    }
   },
   "outputs": [
    {
     "name": "stdout",
     "output_type": "stream",
     "text": [
      "[1, 2, 3, 5]\n",
      "[6, 7, 8, 9]\n"
     ]
    }
   ],
   "source": [
    "from collections import deque\n",
    "\n",
    "# deque -> stack\n",
    "stack = deque([1,2,3,4])\n",
    "stack.pop()\n",
    "stack.append(5)\n",
    "print(list(stack))\n",
    "\n",
    "# deque -> queue\n",
    "queue = deque([5,6,7,8])\n",
    "queue.append(9)\n",
    "queue.popleft()\n",
    "\n",
    "print(list(queue))"
   ]
  },
  {
   "cell_type": "code",
   "execution_count": 16,
   "metadata": {
    "ExecuteTime": {
     "end_time": "2019-03-29T04:42:50.243259Z",
     "start_time": "2019-03-29T04:42:50.232475Z"
    }
   },
   "outputs": [
    {
     "name": "stdout",
     "output_type": "stream",
     "text": [
      "[0, 1, 2, 6, 3, 5, 4, 7, 8, 9]\n"
     ]
    },
    {
     "data": {
      "text/plain": [
       "0"
      ]
     },
     "execution_count": 16,
     "metadata": {},
     "output_type": "execute_result"
    }
   ],
   "source": [
    "# from heapq import *\n",
    "\n",
    "# heap\n",
    "from heapq import heappush, heappop\n",
    "heap = []\n",
    "data = [1, 3, 5, 7, 9, 2, 4, 6, 8, 0]\n",
    "for item in data:\n",
    "    heappush(heap, item)\n",
    "\n",
    "print(heap)\n",
    "heappop(heap)"
   ]
  },
  {
   "cell_type": "code",
   "execution_count": 27,
   "metadata": {
    "ExecuteTime": {
     "end_time": "2019-03-29T05:57:51.636358Z",
     "start_time": "2019-03-29T05:57:51.626730Z"
    }
   },
   "outputs": [],
   "source": [
    "def approach3(givenNumber):  \n",
    "    \n",
    "    # Initialize a list\n",
    "    primes = []\n",
    "    for possiblePrime in range(2, givenNumber + 1):\n",
    "        # Assume number is prime until shown it is not. \n",
    "        isPrime = True\n",
    "        for num in range(2, int(possiblePrime ** 0.5) + 1):\n",
    "            if possiblePrime % num == 0:\n",
    "                isPrime = False\n",
    "                break\n",
    "        if isPrime:\n",
    "            primes.append(possiblePrime)\n",
    "    \n",
    "    return(primes)"
   ]
  },
  {
   "cell_type": "code",
   "execution_count": 43,
   "metadata": {
    "ExecuteTime": {
     "end_time": "2019-03-29T17:10:40.604835Z",
     "start_time": "2019-03-29T17:10:40.596100Z"
    }
   },
   "outputs": [
    {
     "name": "stdout",
     "output_type": "stream",
     "text": [
      "[5, 3, 2, 1]\n",
      "[1, 2, 3, 5]\n"
     ]
    }
   ],
   "source": [
    "stack1 = stack[::-1]\n",
    "print(stack1)\n",
    "stack1.reverse()\n",
    "print(stack1)"
   ]
  },
  {
   "cell_type": "code",
   "execution_count": null,
   "metadata": {},
   "outputs": [],
   "source": []
  }
 ],
 "metadata": {
  "hide_input": false,
  "kernelspec": {
   "display_name": "Python 3",
   "language": "python",
   "name": "python3"
  },
  "language_info": {
   "codemirror_mode": {
    "name": "ipython",
    "version": 3
   },
   "file_extension": ".py",
   "mimetype": "text/x-python",
   "name": "python",
   "nbconvert_exporter": "python",
   "pygments_lexer": "ipython3",
   "version": "3.7.4"
  },
  "toc": {
   "base_numbering": 1,
   "nav_menu": {},
   "number_sections": true,
   "sideBar": true,
   "skip_h1_title": false,
   "title_cell": "Table of Contents",
   "title_sidebar": "Contents",
   "toc_cell": false,
   "toc_position": {},
   "toc_section_display": true,
   "toc_window_display": false
  },
  "varInspector": {
   "cols": {
    "lenName": 16,
    "lenType": 16,
    "lenVar": 40
   },
   "kernels_config": {
    "python": {
     "delete_cmd_postfix": "",
     "delete_cmd_prefix": "del ",
     "library": "var_list.py",
     "varRefreshCmd": "print(var_dic_list())"
    },
    "r": {
     "delete_cmd_postfix": ") ",
     "delete_cmd_prefix": "rm(",
     "library": "var_list.r",
     "varRefreshCmd": "cat(var_dic_list()) "
    }
   },
   "types_to_exclude": [
    "module",
    "function",
    "builtin_function_or_method",
    "instance",
    "_Feature"
   ],
   "window_display": false
  }
 },
 "nbformat": 4,
 "nbformat_minor": 2
}
