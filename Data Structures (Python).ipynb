{
 "cells": [
  {
   "cell_type": "markdown",
   "metadata": {},
   "source": [
    "# Arrays\n"
   ]
  },
  {
   "cell_type": "code",
   "execution_count": 18,
   "metadata": {},
   "outputs": [
    {
     "data": {
      "text/plain": [
       "[0, 1, 2, 3, 4, 5, 6, 7, 8, 9]"
      ]
     },
     "execution_count": 18,
     "metadata": {},
     "output_type": "execute_result"
    }
   ],
   "source": [
    "a = list(range(10))\n",
    "a"
   ]
  },
  {
   "cell_type": "code",
   "execution_count": 19,
   "metadata": {},
   "outputs": [],
   "source": [
    "a.insert(2,100)"
   ]
  },
  {
   "cell_type": "code",
   "execution_count": 21,
   "metadata": {},
   "outputs": [],
   "source": [
    "a.sort()"
   ]
  },
  {
   "cell_type": "code",
   "execution_count": 22,
   "metadata": {},
   "outputs": [
    {
     "data": {
      "text/plain": [
       "[0, 1, 2, 3, 4, 5, 6, 7, 8, 9, 100]"
      ]
     },
     "execution_count": 22,
     "metadata": {},
     "output_type": "execute_result"
    }
   ],
   "source": [
    "a"
   ]
  },
  {
   "cell_type": "markdown",
   "metadata": {},
   "source": [
    "# Trees\n",
    "\n",
    "- binary search trees (BST), n-ary trees, and trie-trees\n",
    "- balanced binary tree\n",
    " - ### red/black tree\n",
    " - ### splay tree\n",
    " - ### AVL tree\n",
    "- basic tree construction, traversal and manipulation algorithms\n",
    " - ### BFS and DFS\n",
    " - inorder (left->root->right), postorder (left->right->root) and preorder (root->left->right)\n"
   ]
  },
  {
   "cell_type": "markdown",
   "metadata": {},
   "source": [
    "## Binary Tree (BT)"
   ]
  },
  {
   "cell_type": "code",
   "execution_count": 7,
   "metadata": {},
   "outputs": [],
   "source": [
    "class btNode:\n",
    "    def __init__(self, data = None, left = None, right = None):\n",
    "        self.data = data\n",
    "        self.left = left\n",
    "        self.right = right\n",
    "\n",
    "def traverseInOrder(root):\n",
    "    if root:\n",
    "        traverseInOrder(root.left)\n",
    "        print(root.data)\n",
    "        traverseInOrder(root.right)\n",
    "        \n",
    "def traversePreOrder(root):\n",
    "    if root:\n",
    "        print(root.data)\n",
    "        traverseInOrder(root.left)\n",
    "        traverseInOrder(root.right)\n",
    "        \n",
    "def traversePostOrder(root):\n",
    "    if root:\n",
    "        traverseInOrder(root.left)\n",
    "        traverseInOrder(root.right)\n",
    "        print(root.data)"
   ]
  },
  {
   "cell_type": "code",
   "execution_count": 5,
   "metadata": {},
   "outputs": [],
   "source": [
    "root = btNode(1)\n",
    "root.left = btNode(2)\n",
    "root.right = btNode(3)\n",
    "root.left.left = btNode(4)\n",
    "root.left.right = btNode(5)"
   ]
  },
  {
   "cell_type": "code",
   "execution_count": 8,
   "metadata": {},
   "outputs": [
    {
     "name": "stdout",
     "output_type": "stream",
     "text": [
      "1\n",
      "4\n",
      "2\n",
      "5\n",
      "3\n"
     ]
    }
   ],
   "source": [
    "traversePreOrder(root)"
   ]
  },
  {
   "cell_type": "markdown",
   "metadata": {},
   "source": [
    "## Binary Search Tree (BST)"
   ]
  },
  {
   "cell_type": "code",
   "execution_count": null,
   "metadata": {},
   "outputs": [],
   "source": [
    "\n",
    "\n",
    "class bstNode:\n",
    "    def __init__(self, data = None, left = None, right = None):\n",
    "        self.data = data\n",
    "        self.left = left\n",
    "        self.right = right\n",
    "        \n",
    "        \n",
    "def search(root: bstNode, key:int):\n",
    "    return root if not root or root.data == key else search(root.left,key) if key < root.data else search(root.right,key)"
   ]
  },
  {
   "cell_type": "markdown",
   "metadata": {},
   "source": [
    "## Splay Tree"
   ]
  },
  {
   "cell_type": "code",
   "execution_count": 1,
   "metadata": {},
   "outputs": [],
   "source": [
    "# splay tree implementation:\n",
    "# https://github.com/anoopj/pysplay/blob/master/splay.py\n",
    "\n",
    "from splay_tree import *"
   ]
  },
  {
   "cell_type": "code",
   "execution_count": 2,
   "metadata": {},
   "outputs": [
    {
     "name": "stdout",
     "output_type": "stream",
     "text": [
      "R----1\n",
      "     R----89\n",
      "          L----5\n",
      "          |    R----41\n",
      "          |         L----33\n",
      "          |         R----67\n",
      "          |              L----44\n",
      "          R----98\n",
      "R----44\n",
      "     L----33\n",
      "     |    L----1\n",
      "     |    |    R----5\n",
      "     |    R----41\n",
      "     R----89\n",
      "          L----67\n",
      "          R----98\n",
      "R----1\n",
      "     R----33\n",
      "          R----44\n",
      "               R----98\n"
     ]
    }
   ],
   "source": [
    "tree = SplayTree()\n",
    "tree.insert(33)\n",
    "tree.insert(44)\n",
    "tree.insert(67)\n",
    "tree.insert(5)\n",
    "tree.insert(89)\n",
    "tree.insert(41)\n",
    "tree.insert(98)\n",
    "tree.insert(1)\n",
    "tree.pretty_print()\n",
    "\n",
    "tree.search_tree(33)\n",
    "tree.search_tree(44)\n",
    "tree.pretty_print()\n",
    "tree.delete_node(89)\n",
    "tree.delete_node(67)\n",
    "tree.delete_node(41)\n",
    "tree.delete_node(5)\n",
    "tree.pretty_print()\n",
    "tree.delete_node(98)\n",
    "tree.delete_node(1)\n",
    "tree.delete_node(44)\n",
    "tree.delete_node(33)\n",
    "tree.pretty_print()"
   ]
  },
  {
   "cell_type": "markdown",
   "metadata": {},
   "source": [
    "# Hashtables and maps\n",
    "\n",
    "- Python\n",
    " - ### set\n",
    " - ### dict \n",
    " - ### collections.defaultdict\n",
    " - ### collections.Counter\n",
    "- How to implement using only arrays?\n",
    "- Big-O analysis\n",
    "- When to use?\n",
    " - ### 2 SUM, 3 SUM, 4 SUM\n",
    "\n",
    "## implement a hashtable"
   ]
  },
  {
   "cell_type": "code",
   "execution_count": 9,
   "metadata": {},
   "outputs": [],
   "source": [
    "# components of a hashmap\n",
    "# array - where to store the data\n",
    "# hash function - convert key to index\n",
    "# collision handling\n",
    "\n",
    "\n",
    "# design a good hash function\n",
    "# eg\n",
    "#1: length of a string\n",
    "#   value = len(key)-1\n",
    "\n",
    "#2: sum(ASCII of each letter)\n",
    "#   for char in key: value += ord(char)\n",
    "#   value %= 5\n",
    "\n",
    "\n",
    "class hashTable:\n",
    "    def __init__(self):\n",
    "        self.size = 10\n",
    "        self.slots = [None] * self.size\n",
    "    \n",
    "    def _hash_func(self,key):\n",
    "        hash_value = 0\n",
    "        for char in key:\n",
    "            hash_value += ord(char)\n",
    "        idx = hash_value % self.size\n",
    "        return idx\n",
    "    \n",
    "    def insert(self,key,value):\n",
    "        idx = self._hash_func(key)\n",
    "        print(idx)\n",
    "        \n",
    "        if self.slots[idx] is None:\n",
    "            self.slots[idx] = [[key,value]]\n",
    "            # this line is important\n",
    "            return True\n",
    "        else:\n",
    "            for item in self.slots[idx]:\n",
    "                # assume the value will be overwritten if the same key apperas twice\n",
    "                # don't allow duplicate keys\n",
    "                if item[0] == key:\n",
    "                    item[1] = value\n",
    "                    return True\n",
    "            self.slots[idx].append([key,value])\n",
    "            return True\n",
    "    \n",
    "    def delete(self,key):\n",
    "        idx = self._hash_func(key)\n",
    "        if self.slots[idx] is None:\n",
    "            return False\n",
    "        else:\n",
    "            for item in self.slots[idx]:\n",
    "                if item[0] == key:\n",
    "                    self.slots[idx].remove(item)\n",
    "                    return True\n",
    "            return False\n",
    "    \n",
    "    def lookup(self,key):\n",
    "        idx = self._hash_func(key)\n",
    "        if self.slots[idx] is None:\n",
    "            return False\n",
    "        else:\n",
    "            for item in self.slots[idx]:\n",
    "                if item[0] == key:\n",
    "                    return item[1]\n",
    "            return False"
   ]
  },
  {
   "cell_type": "code",
   "execution_count": 10,
   "metadata": {},
   "outputs": [],
   "source": [
    "a = hashTable()"
   ]
  },
  {
   "cell_type": "code",
   "execution_count": 11,
   "metadata": {},
   "outputs": [
    {
     "data": {
      "text/plain": [
       "[None, None, None, None, None, None, None, None, None, None]"
      ]
     },
     "execution_count": 11,
     "metadata": {},
     "output_type": "execute_result"
    }
   ],
   "source": [
    "a.slots"
   ]
  },
  {
   "cell_type": "code",
   "execution_count": 12,
   "metadata": {},
   "outputs": [
    {
     "name": "stdout",
     "output_type": "stream",
     "text": [
      "7\n",
      "6\n",
      "7\n",
      "4\n"
     ]
    },
    {
     "data": {
      "text/plain": [
       "True"
      ]
     },
     "execution_count": 12,
     "metadata": {},
     "output_type": "execute_result"
    }
   ],
   "source": [
    "a.insert('bob',1)\n",
    "a.insert('tom', 2)\n",
    "a.insert('candy', 3)\n",
    "a.insert('allen', 4)"
   ]
  },
  {
   "cell_type": "code",
   "execution_count": 13,
   "metadata": {},
   "outputs": [
    {
     "data": {
      "text/plain": [
       "[None,\n",
       " None,\n",
       " None,\n",
       " None,\n",
       " [['allen', 4]],\n",
       " None,\n",
       " [['tom', 2]],\n",
       " [['bob', 1], ['candy', 3]],\n",
       " None,\n",
       " None]"
      ]
     },
     "execution_count": 13,
     "metadata": {},
     "output_type": "execute_result"
    }
   ],
   "source": [
    "a.slots"
   ]
  },
  {
   "cell_type": "code",
   "execution_count": 17,
   "metadata": {},
   "outputs": [
    {
     "data": {
      "text/plain": [
       "False"
      ]
     },
     "execution_count": 17,
     "metadata": {},
     "output_type": "execute_result"
    }
   ],
   "source": [
    "a.lookup('bob')"
   ]
  },
  {
   "cell_type": "code",
   "execution_count": 15,
   "metadata": {},
   "outputs": [
    {
     "data": {
      "text/plain": [
       "True"
      ]
     },
     "execution_count": 15,
     "metadata": {},
     "output_type": "execute_result"
    }
   ],
   "source": [
    "a.delete('bob')"
   ]
  },
  {
   "cell_type": "code",
   "execution_count": 16,
   "metadata": {},
   "outputs": [
    {
     "data": {
      "text/plain": [
       "[None,\n",
       " None,\n",
       " None,\n",
       " None,\n",
       " [['allen', 4]],\n",
       " None,\n",
       " [['tom', 2]],\n",
       " [['candy', 3]],\n",
       " None,\n",
       " None]"
      ]
     },
     "execution_count": 16,
     "metadata": {},
     "output_type": "execute_result"
    }
   ],
   "source": [
    "a.slots"
   ]
  },
  {
   "cell_type": "code",
   "execution_count": 14,
   "metadata": {},
   "outputs": [
    {
     "name": "stdout",
     "output_type": "stream",
     "text": [
      "4 5\n"
     ]
    },
    {
     "data": {
      "text/plain": [
       "True"
      ]
     },
     "execution_count": 14,
     "metadata": {},
     "output_type": "execute_result"
    }
   ],
   "source": [
    "# 2 sum\n",
    "# O(n)\n",
    "\n",
    "A = [1,3,4,5]\n",
    "SUM = 9\n",
    "\n",
    "def two_sum(A,SUM):\n",
    "    s = set()\n",
    "    for i in range(0,len(A)):\n",
    "        if A[i] in s:\n",
    "            print(SUM-A[i], A[i])\n",
    "            return True\n",
    "        else:\n",
    "            s.add(SUM-A[i])\n",
    "    return False\n",
    "\n",
    "two_sum(A,SUM)"
   ]
  },
  {
   "cell_type": "code",
   "execution_count": 17,
   "metadata": {},
   "outputs": [
    {
     "name": "stdout",
     "output_type": "stream",
     "text": [
      "10 8\n",
      "4\n"
     ]
    },
    {
     "data": {
      "text/plain": [
       "True"
      ]
     },
     "execution_count": 17,
     "metadata": {},
     "output_type": "execute_result"
    }
   ],
   "source": [
    "# 3 sum\n",
    "\n",
    "# Method 1: Sort\n",
    "# Method 2: Hash table\n",
    "# O(n^2)\n",
    "\n",
    "A = [1, 4, 45, 6, 10, 8]  \n",
    "SUM = 22\n",
    "\n",
    "def three_sum(A,SUM):\n",
    "    for i in range(0,len(A)-1):\n",
    "        if two_sum(A[i+1:],SUM-A[i]):\n",
    "            print(A[i])\n",
    "            return True\n",
    "    return False\n",
    "\n",
    "three_sum(A,SUM)"
   ]
  },
  {
   "cell_type": "code",
   "execution_count": 18,
   "metadata": {},
   "outputs": [],
   "source": [
    "# 4 sum\n",
    "# https://www.geeksforgeeks.org/find-four-numbers-with-sum-equal-to-given-sum/\n"
   ]
  },
  {
   "cell_type": "markdown",
   "metadata": {},
   "source": [
    "## Stack, Queue"
   ]
  },
  {
   "cell_type": "code",
   "execution_count": 31,
   "metadata": {
    "ExecuteTime": {
     "end_time": "2019-03-29T17:06:08.133462Z",
     "start_time": "2019-03-29T17:06:08.122910Z"
    }
   },
   "outputs": [
    {
     "name": "stdout",
     "output_type": "stream",
     "text": [
      "[1, 2, 3, 5]\n",
      "[6, 7, 8, 9]\n"
     ]
    }
   ],
   "source": [
    "# list -> stack, queue\n",
    "\n",
    "# list -> stack\n",
    "stack = [1,2,3,4]\n",
    "stack.pop()\n",
    "stack.append(5)\n",
    "print(stack)\n",
    "\n",
    "# list -> queue\n",
    "# inefficient to pop from the beginning\n",
    "queue = [5,6,7,8]\n",
    "queue.append(9)\n",
    "queue.pop(0)\n",
    "print(queue)"
   ]
  },
  {
   "cell_type": "code",
   "execution_count": 14,
   "metadata": {
    "ExecuteTime": {
     "end_time": "2019-03-29T04:38:33.003701Z",
     "start_time": "2019-03-29T04:38:32.992572Z"
    }
   },
   "outputs": [
    {
     "name": "stdout",
     "output_type": "stream",
     "text": [
      "[1, 2, 3, 5]\n",
      "[6, 7, 8, 9]\n"
     ]
    }
   ],
   "source": [
    "from collections import deque\n",
    "\n",
    "# deque -> stack\n",
    "stack = deque([1,2,3,4])\n",
    "stack.pop()\n",
    "stack.append(5)\n",
    "print(list(stack))\n",
    "\n",
    "# deque -> queue\n",
    "queue = deque([5,6,7,8])\n",
    "queue.append(9)\n",
    "queue.popleft()\n",
    "\n",
    "print(list(queue))"
   ]
  },
  {
   "cell_type": "markdown",
   "metadata": {},
   "source": [
    "# Heap"
   ]
  },
  {
   "cell_type": "code",
   "execution_count": 16,
   "metadata": {
    "ExecuteTime": {
     "end_time": "2019-03-29T04:42:50.243259Z",
     "start_time": "2019-03-29T04:42:50.232475Z"
    }
   },
   "outputs": [
    {
     "name": "stdout",
     "output_type": "stream",
     "text": [
      "[0, 1, 2, 6, 3, 5, 4, 7, 8, 9]\n"
     ]
    },
    {
     "data": {
      "text/plain": [
       "0"
      ]
     },
     "execution_count": 16,
     "metadata": {},
     "output_type": "execute_result"
    }
   ],
   "source": [
    "# from heapq import *\n",
    "\n",
    "# heap\n",
    "from heapq import heappush, heappop\n",
    "heap = []\n",
    "data = [1, 3, 5, 7, 9, 2, 4, 6, 8, 0]\n",
    "for item in data:\n",
    "    heappush(heap, item)\n",
    "\n",
    "print(heap)\n",
    "heappop(heap)"
   ]
  },
  {
   "cell_type": "code",
   "execution_count": 2,
   "metadata": {},
   "outputs": [],
   "source": [
    "import heapq"
   ]
  },
  {
   "cell_type": "code",
   "execution_count": 50,
   "metadata": {},
   "outputs": [],
   "source": [
    "min_heap = [1, 3, 5, 7, 9, 2, 4, 6, 8, 0]\n",
    "heapq.heapify(min_heap)"
   ]
  },
  {
   "cell_type": "code",
   "execution_count": 51,
   "metadata": {},
   "outputs": [
    {
     "data": {
      "text/plain": [
       "[0, 1, 2, 6, 3, 5, 4, 7, 8, 9]"
      ]
     },
     "execution_count": 51,
     "metadata": {},
     "output_type": "execute_result"
    }
   ],
   "source": [
    "# heapq.heappop(min_heap)\n",
    "# heapq.nlargest(5,min_heap)\n",
    "list(min_heap)"
   ]
  },
  {
   "cell_type": "code",
   "execution_count": 27,
   "metadata": {
    "ExecuteTime": {
     "end_time": "2019-03-29T05:57:51.636358Z",
     "start_time": "2019-03-29T05:57:51.626730Z"
    }
   },
   "outputs": [],
   "source": [
    "def approach3(givenNumber):  \n",
    "    \n",
    "    # Initialize a list\n",
    "    primes = []\n",
    "    for possiblePrime in range(2, givenNumber + 1):\n",
    "        # Assume number is prime until shown it is not. \n",
    "        isPrime = True\n",
    "        for num in range(2, int(possiblePrime ** 0.5) + 1):\n",
    "            if possiblePrime % num == 0:\n",
    "                isPrime = False\n",
    "                break\n",
    "        if isPrime:\n",
    "            primes.append(possiblePrime)\n",
    "    \n",
    "    return(primes)"
   ]
  },
  {
   "cell_type": "code",
   "execution_count": 43,
   "metadata": {
    "ExecuteTime": {
     "end_time": "2019-03-29T17:10:40.604835Z",
     "start_time": "2019-03-29T17:10:40.596100Z"
    }
   },
   "outputs": [
    {
     "name": "stdout",
     "output_type": "stream",
     "text": [
      "[5, 3, 2, 1]\n",
      "[1, 2, 3, 5]\n"
     ]
    }
   ],
   "source": [
    "stack1 = stack[::-1]\n",
    "print(stack1)\n",
    "stack1.reverse()\n",
    "print(stack1)"
   ]
  },
  {
   "cell_type": "code",
   "execution_count": null,
   "metadata": {},
   "outputs": [],
   "source": []
  },
  {
   "cell_type": "markdown",
   "metadata": {},
   "source": [
    "## Graph\n",
    "\n",
    "- representations\n",
    " - ### objects and pointers\n",
    " - ### adjacency matrix\n",
    " - ### adjacency list\n",
    "- traversal\n",
    " - ### BFS\n",
    " - ### DFS"
   ]
  },
  {
   "cell_type": "markdown",
   "metadata": {},
   "source": [
    "![](https://cdn.programiz.com/sites/tutorial2program/files/graph-bfs-step-0.jpg)"
   ]
  },
  {
   "cell_type": "code",
   "execution_count": 198,
   "metadata": {},
   "outputs": [],
   "source": [
    "# Edge lists -> Adjacency matrix\n",
    "\n",
    "class Graph(object):\n",
    "    def __init__(self, size):\n",
    "        self.adjMatrix = []\n",
    "        for i in range(size):\n",
    "            self.adjMatrix.append([0 for i in range(size)])\n",
    "        self.size = size\n",
    "    def addEdge(self, v1, v2):\n",
    "        if v1 == v2:\n",
    "            print(\"Same vertex %d and %d\" % (v1, v2))\n",
    "        self.adjMatrix[v1][v2] = 1\n",
    "        self.adjMatrix[v2][v1] = 1\n",
    "    def removeEdge(self, v1, v2):\n",
    "        if self.adjMatrix[v1][v2] == 0:\n",
    "            print(\"No edge between %d and %d\" % (v1, v2))\n",
    "            return\n",
    "        self.adjMatrix[v1][v2] = 0\n",
    "        self.adjMatrix[v2][v1] = 0\n",
    "    def containsEdge(self, v1, v2):\n",
    "        return True if self.adjMatrix[v1][v2] > 0 else False\n",
    "    def __len__(self):\n",
    "        return self.size\n",
    "\n",
    "# Edge lists\n",
    "g = Graph(5)\n",
    "g.addEdge(0, 1);\n",
    "g.addEdge(0, 2);\n",
    "g.addEdge(0, 3);\n",
    "g.addEdge(1, 2);\n",
    "g.addEdge(2, 4);\n",
    "\n",
    "# Adjacency matrix\n",
    "g.adjMatrix\n",
    "\n",
    "# Adjacency list\n",
    "graph = {'0': set(['1', '2', '3']),\n",
    "         '1': set(['0', '2']),\n",
    "         '2': set(['0', '1', '4']),\n",
    "         '3': set(['0']),\n",
    "         '4': set(['2'])\n",
    "         }"
   ]
  },
  {
   "cell_type": "code",
   "execution_count": 199,
   "metadata": {},
   "outputs": [
    {
     "data": {
      "text/plain": [
       "({'0', '1', '2', '3', '4'}, ['0', '2', '4', '1', '3'])"
      ]
     },
     "execution_count": 199,
     "metadata": {},
     "output_type": "execute_result"
    }
   ],
   "source": [
    "def dfs(graph, curr, visited=set(), path=[]):\n",
    "    if curr not in visited:\n",
    "        path.append(curr)\n",
    "    visited.add(curr)\n",
    "    for v in graph[curr] - visited:  # unvisited neighbors\n",
    "        dfs(graph, v, visited, path)\n",
    "    return visited, path\n",
    "\n",
    "dfs(graph, '0')"
   ]
  },
  {
   "cell_type": "code",
   "execution_count": 197,
   "metadata": {},
   "outputs": [
    {
     "data": {
      "text/plain": [
       "({'0', '1', '2', '3', '4'}, ['0', '2', '1', '3', '4'])"
      ]
     },
     "execution_count": 197,
     "metadata": {},
     "output_type": "execute_result"
    }
   ],
   "source": [
    "def bfs(graph, curr, visited=set(), path=[]):\n",
    "    queue = [curr]\n",
    "    visited.add(curr)\n",
    "    while queue:\n",
    "        curr = queue.pop(0)\n",
    "        path.append(curr)\n",
    "        for v in graph[curr] - visited:\n",
    "            queue.append(v)\n",
    "            visited.add(v)\n",
    "    return visited,path\n",
    "\n",
    "bfs(graph,'0')"
   ]
  },
  {
   "cell_type": "code",
   "execution_count": 136,
   "metadata": {},
   "outputs": [
    {
     "data": {
      "text/plain": [
       "True"
      ]
     },
     "execution_count": 136,
     "metadata": {},
     "output_type": "execute_result"
    }
   ],
   "source": [
    "# example: match result\n",
    "\n",
    "# from matches to find if 'D' can reach 'C'\n",
    "import collections\n",
    "\n",
    "matches = [['A','B'],['B','A'],['B','C'],['C','B'],['C','D'],['D','A']]\n",
    "\n",
    "graph = collections.defaultdict(set)\n",
    "\n",
    "for match in matches:\n",
    "    graph[match[0]].add(match[1])\n",
    "    \n",
    "    \n",
    "def can_reach_dfs(graph,curr,dest,visited=set()):\n",
    "    if curr == dest:\n",
    "        return True\n",
    "    if curr not in graph:\n",
    "        return False\n",
    "    visited.add(curr)\n",
    "    return any(can_reach_dfs(graph,v,dest,visited) for v in graph[curr])\n",
    "\n",
    "\n",
    "can_reach_dfs(graph,'D','C')"
   ]
  },
  {
   "cell_type": "code",
   "execution_count": 350,
   "metadata": {},
   "outputs": [
    {
     "data": {
      "text/plain": [
       "(14, ['A', 'B', 'E'])"
      ]
     },
     "execution_count": 350,
     "metadata": {},
     "output_type": "execute_result"
    }
   ],
   "source": [
    "# dijkstra\n",
    "from collections import defaultdict\n",
    "from heapq import *\n",
    "\n",
    "def dijkstra(edges, start, end):\n",
    "    graph = defaultdict(list)\n",
    "    for u,v,weight in edges:\n",
    "        graph[u].append((weight,v))\n",
    "        \n",
    "    min_heap, visited, min_d = [(0,start,[])], set(), {start: 0}\n",
    "    while min_heap:\n",
    "        # find min and remove min  O(1)+O(log n)\n",
    "        (dist,v1,path) = heappop(min_heap)\n",
    "        if v1 not in visited:\n",
    "            visited.add(v1)\n",
    "            path = path + [v1]\n",
    "            if v1 == end: return (dist,path)\n",
    "            \n",
    "            for weight, v2 in graph.get(v1, ()):\n",
    "                prev = min_d.get(v2, None)\n",
    "                new = dist + weight\n",
    "                if prev is None or new < prev:\n",
    "                    min_d[v2] = new\n",
    "                    heappush(min_heap, (new,v2,path))\n",
    "        \n",
    "    return float(\"inf\")\n",
    "\n",
    "\n",
    "# weighted edge lists\n",
    "edges = [\n",
    "    (\"A\", \"B\", 7),\n",
    "    (\"A\", \"D\", 5),\n",
    "    (\"B\", \"C\", 8),\n",
    "    (\"B\", \"D\", 9),\n",
    "    (\"B\", \"E\", 7),\n",
    "    (\"C\", \"E\", 5),\n",
    "    (\"D\", \"E\", 15),\n",
    "    (\"D\", \"F\", 6),\n",
    "    (\"E\", \"F\", 8),\n",
    "    (\"E\", \"G\", 9),\n",
    "    (\"F\", \"G\", 11)\n",
    "]\n",
    "\n",
    "dijkstra(edges, \"A\", \"E\")"
   ]
  },
  {
   "cell_type": "code",
   "execution_count": null,
   "metadata": {},
   "outputs": [],
   "source": []
  }
 ],
 "metadata": {
  "hide_input": false,
  "kernelspec": {
   "display_name": "Python 3",
   "language": "python",
   "name": "python3"
  },
  "language_info": {
   "codemirror_mode": {
    "name": "ipython",
    "version": 3
   },
   "file_extension": ".py",
   "mimetype": "text/x-python",
   "name": "python",
   "nbconvert_exporter": "python",
   "pygments_lexer": "ipython3",
   "version": "3.7.4"
  },
  "toc": {
   "base_numbering": 1,
   "nav_menu": {},
   "number_sections": true,
   "sideBar": true,
   "skip_h1_title": false,
   "title_cell": "Table of Contents",
   "title_sidebar": "Contents",
   "toc_cell": false,
   "toc_position": {},
   "toc_section_display": true,
   "toc_window_display": false
  },
  "varInspector": {
   "cols": {
    "lenName": 16,
    "lenType": 16,
    "lenVar": 40
   },
   "kernels_config": {
    "python": {
     "delete_cmd_postfix": "",
     "delete_cmd_prefix": "del ",
     "library": "var_list.py",
     "varRefreshCmd": "print(var_dic_list())"
    },
    "r": {
     "delete_cmd_postfix": ") ",
     "delete_cmd_prefix": "rm(",
     "library": "var_list.r",
     "varRefreshCmd": "cat(var_dic_list()) "
    }
   },
   "types_to_exclude": [
    "module",
    "function",
    "builtin_function_or_method",
    "instance",
    "_Feature"
   ],
   "window_display": false
  }
 },
 "nbformat": 4,
 "nbformat_minor": 2
}
