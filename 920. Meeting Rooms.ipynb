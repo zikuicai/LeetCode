{
 "cells": [
  {
   "cell_type": "markdown",
   "metadata": {},
   "source": [
    "# 920. Meeting Rooms\n",
    "\n",
    "lintcode\n",
    "\n",
    "```\n",
    "Given an array of meeting time intervals consisting of start and end times [[s1,e1],[s2,e2],...] (si < ei), determine if a person could attend all meetings.\n",
    "\n",
    "Input: intervals = [(0,30),(5,10),(15,20)]\n",
    "Output: false\n",
    "Explanation: \n",
    "(0,30), (5,10) and (0,30),(15,20) will conflict\n",
    "\n",
    "```\n",
    "\n",
    "\n",
    "# [919. Meeting Rooms II](https://www.lintcode.com/problem/meeting-rooms-ii/)\n",
    "\n",
    "```\n",
    "Given an array of meeting time intervals consisting of start and end times [[s1,e1],[s2,e2],...] (si < ei), find the minimum number of conference rooms required.\n",
    "\n",
    "\n",
    "Input: intervals = [(0,30),(5,10),(15,20)]\n",
    "Output: 2\n",
    "Explanation:\n",
    "We need two meeting rooms\n",
    "room1: (0,30)\n",
    "room2: (5,10),(15,20)\n",
    "```"
   ]
  },
  {
   "cell_type": "code",
   "execution_count": 1,
   "metadata": {
    "ExecuteTime": {
     "end_time": "2019-03-18T08:46:56.617009Z",
     "start_time": "2019-03-18T08:46:56.611827Z"
    }
   },
   "outputs": [],
   "source": [
    "a1 = [(0,30),(5,10),(15,20)]\n",
    "a2 = [(2,7)]\n",
    "from copy import deepcopy"
   ]
  },
  {
   "cell_type": "code",
   "execution_count": 8,
   "metadata": {
    "ExecuteTime": {
     "end_time": "2019-03-18T05:05:39.367464Z",
     "start_time": "2019-03-18T05:05:39.360454Z"
    }
   },
   "outputs": [
    {
     "name": "stdout",
     "output_type": "stream",
     "text": [
      "False\n"
     ]
    }
   ],
   "source": [
    "def canAttendMeetings(intervals):\n",
    "        # Write your code here\n",
    "        mins = min(i[0] for i in intervals)\n",
    "        maxs = min(i[1] for i in intervals)\n",
    "        d = 0\n",
    "        for i in intervals:\n",
    "            d += i[1] - i[0]\n",
    "        \n",
    "        if d > maxs-mins:\n",
    "            return False\n",
    "        return True"
   ]
  },
  {
   "cell_type": "code",
   "execution_count": 5,
   "metadata": {
    "ExecuteTime": {
     "end_time": "2019-03-18T08:55:10.001754Z",
     "start_time": "2019-03-18T08:55:09.982097Z"
    }
   },
   "outputs": [
    {
     "name": "stdout",
     "output_type": "stream",
     "text": [
      "[(5, 10), (15, 20), (0, 30)]\n",
      "count 1\n",
      "[(0, 30)]\n",
      "count 2\n"
     ]
    },
    {
     "data": {
      "text/plain": [
       "2"
      ]
     },
     "execution_count": 5,
     "metadata": {},
     "output_type": "execute_result"
    }
   ],
   "source": [
    "intervals = deepcopy(a1)\n",
    "\n",
    "def meetingSelection(meetings):\n",
    "    meetings_s = sorted(meetings, key=lambda x: x[1])\n",
    "    count = 0\n",
    "    while meetings_s:\n",
    "        to_delete = []\n",
    "#         print(meetings_s)\n",
    "        count += 1\n",
    "#         print('count',count)\n",
    "        end = -1\n",
    "        for s in meetings_s:\n",
    "            if s[0] > end:\n",
    "                to_delete.append(s)\n",
    "                end = s[1]\n",
    "        for i in to_delete:\n",
    "            meetings_s.remove(i)\n",
    "    return count\n",
    "\n",
    "meetingSelection(intervals)"
   ]
  },
  {
   "cell_type": "code",
   "execution_count": null,
   "metadata": {},
   "outputs": [],
   "source": []
  }
 ],
 "metadata": {
  "hide_input": false,
  "kernelspec": {
   "display_name": "Python 3",
   "language": "python",
   "name": "python3"
  },
  "language_info": {
   "codemirror_mode": {
    "name": "ipython",
    "version": 3
   },
   "file_extension": ".py",
   "mimetype": "text/x-python",
   "name": "python",
   "nbconvert_exporter": "python",
   "pygments_lexer": "ipython3",
   "version": "3.7.2"
  },
  "toc": {
   "base_numbering": 1,
   "nav_menu": {},
   "number_sections": true,
   "sideBar": true,
   "skip_h1_title": true,
   "title_cell": "Table of Contents",
   "title_sidebar": "Contents",
   "toc_cell": false,
   "toc_position": {},
   "toc_section_display": true,
   "toc_window_display": false
  },
  "varInspector": {
   "cols": {
    "lenName": 16,
    "lenType": 16,
    "lenVar": 40
   },
   "kernels_config": {
    "python": {
     "delete_cmd_postfix": "",
     "delete_cmd_prefix": "del ",
     "library": "var_list.py",
     "varRefreshCmd": "print(var_dic_list())"
    },
    "r": {
     "delete_cmd_postfix": ") ",
     "delete_cmd_prefix": "rm(",
     "library": "var_list.r",
     "varRefreshCmd": "cat(var_dic_list()) "
    }
   },
   "types_to_exclude": [
    "module",
    "function",
    "builtin_function_or_method",
    "instance",
    "_Feature"
   ],
   "window_display": false
  }
 },
 "nbformat": 4,
 "nbformat_minor": 2
}
